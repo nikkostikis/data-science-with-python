{
 "cells": [
  {
   "cell_type": "markdown",
   "metadata": {},
   "source": [
    "# k Means Clustering\n",
    "\n",
    "We will demonstrate k means clustering using the constructed example from ISLR - http://www-bcf.usc.edu/~gareth/ISL/.\n",
    "\n",
    "## Construct the data set"
   ]
  },
  {
   "cell_type": "code",
   "execution_count": 11,
   "metadata": {
    "collapsed": true
   },
   "outputs": [],
   "source": [
    "from __future__ import division\n",
    "import numpy as np\n",
    "import pandas as pd\n",
    "import matplotlib.pyplot as plt\n",
    "%matplotlib inline"
   ]
  },
  {
   "cell_type": "code",
   "execution_count": 12,
   "metadata": {
    "collapsed": true
   },
   "outputs": [],
   "source": [
    "X = np.random.normal(0,1,100).reshape(50,2)\n",
    "X[:26,0] = X[:26,0] + 3\n",
    "X[:26,1] = X[:26,1] -4"
   ]
  },
  {
   "cell_type": "code",
   "execution_count": 13,
   "metadata": {
    "collapsed": false
   },
   "outputs": [
    {
     "data": {
      "text/plain": [
       "array([[ 3.5970848 , -4.75407766],\n",
       "       [ 1.41510116, -3.91589829],\n",
       "       [ 4.22897437, -4.04115514],\n",
       "       [ 5.72208926, -5.52486751],\n",
       "       [ 1.28235382, -3.84781175],\n",
       "       [ 3.43497553, -4.76765902],\n",
       "       [ 3.92384518, -3.7780649 ],\n",
       "       [ 2.82875992, -3.20146291],\n",
       "       [ 3.00199234, -4.24227912],\n",
       "       [ 2.94061742, -3.88050226],\n",
       "       [ 3.9084908 , -3.94100587],\n",
       "       [ 2.74174078, -4.98499357],\n",
       "       [ 3.28017457, -4.07382005],\n",
       "       [ 3.39972932, -4.80120893],\n",
       "       [ 3.24788051, -5.67873811],\n",
       "       [ 3.98140811, -5.22506937],\n",
       "       [ 2.01485358, -3.25840119],\n",
       "       [ 4.29647212, -3.25015302],\n",
       "       [ 4.6468087 , -3.27195238],\n",
       "       [ 3.56775861, -4.56243818],\n",
       "       [-0.19299873, -3.19675578],\n",
       "       [ 2.56955556, -5.28807256],\n",
       "       [ 3.2679307 , -4.13415204],\n",
       "       [ 5.0150712 , -4.41993837],\n",
       "       [ 2.82956295, -1.27271084],\n",
       "       [ 4.09115474, -3.88655358],\n",
       "       [-0.47512467,  1.29124667],\n",
       "       [-0.14785919, -0.73897441],\n",
       "       [ 0.04800072, -1.03481738],\n",
       "       [ 0.06165642, -0.49241121],\n",
       "       [ 0.68747655,  1.00048016],\n",
       "       [ 0.18075786, -0.54493451],\n",
       "       [-0.29042934, -1.86032362],\n",
       "       [-0.08979028, -0.35810702],\n",
       "       [-1.13430253,  1.6179902 ],\n",
       "       [-1.37864879,  0.71464512],\n",
       "       [ 0.15011667,  1.9672536 ],\n",
       "       [ 0.01676925, -0.29949534],\n",
       "       [ 0.20453955,  0.09307272],\n",
       "       [-1.13277288,  0.39941108],\n",
       "       [ 2.20484603, -0.91926843],\n",
       "       [-0.71606064, -1.46418667],\n",
       "       [-0.79462656,  0.72315844],\n",
       "       [ 0.23547152,  0.78282873],\n",
       "       [ 1.58649144,  0.77248898],\n",
       "       [ 0.62742527,  0.28360738],\n",
       "       [-0.36832025, -1.0964187 ],\n",
       "       [ 0.92581041, -0.09289164],\n",
       "       [ 0.21861948, -0.79718469],\n",
       "       [ 1.4677046 , -0.38618259]])"
      ]
     },
     "execution_count": 13,
     "metadata": {},
     "output_type": "execute_result"
    }
   ],
   "source": [
    "X"
   ]
  },
  {
   "cell_type": "markdown",
   "metadata": {},
   "source": [
    "## k means, k = 2"
   ]
  },
  {
   "cell_type": "code",
   "execution_count": 14,
   "metadata": {
    "collapsed": false
   },
   "outputs": [
    {
     "data": {
      "text/plain": [
       "array([[ 0.18170442, -0.18878768],\n",
       "       [ 3.4335343 , -4.28042816]])"
      ]
     },
     "execution_count": 14,
     "metadata": {},
     "output_type": "execute_result"
    }
   ],
   "source": [
    "from sklearn import cluster\n",
    "kmeans2 = cluster.KMeans(n_clusters = 2, n_init = 20)\n",
    "kmeans2.fit(X)\n",
    "\n",
    "kmeans2.cluster_centers_"
   ]
  },
  {
   "cell_type": "code",
   "execution_count": 15,
   "metadata": {
    "collapsed": false
   },
   "outputs": [
    {
     "name": "stdout",
     "output_type": "stream",
     "text": [
      "cluster membership: [1 1 1 1 1 1 1 1 1 1 1 1 1 1 1 1 1 1 1 1 0 1 1 1 0 1 0 0 0 0 0 0 0 0 0 0 0\n",
      " 0 0 0 0 0 0 0 0 0 0 0 0 0]\n",
      "\n"
     ]
    }
   ],
   "source": [
    "print('cluster membership: {}\\n'.format(kmeans2.labels_))"
   ]
  },
  {
   "cell_type": "code",
   "execution_count": 16,
   "metadata": {
    "collapsed": false
   },
   "outputs": [
    {
     "data": {
      "text/plain": [
       "94.923044614949248"
      ]
     },
     "execution_count": 16,
     "metadata": {},
     "output_type": "execute_result"
    }
   ],
   "source": [
    "# within cluster sum of squares\n",
    "kmeans2.inertia_"
   ]
  },
  {
   "cell_type": "code",
   "execution_count": 17,
   "metadata": {
    "collapsed": false
   },
   "outputs": [
    {
     "data": {
      "image/png": "[encoded data removed]",
      "text/plain": [
       "<matplotlib.figure.Figure at 0x7f3f9504c5d0>"
      ]
     },
     "metadata": {},
     "output_type": "display_data"
    }
   ],
   "source": [
    "cluster_1 = X[kmeans2.labels_ == 0]\n",
    "cluster_2 = X[kmeans2.labels_ == 1]\n",
    "\n",
    "plt.figure()\n",
    "plt.title('k means clustering, k = 2')\n",
    "plt.plot(cluster_1[:,0], cluster_1[:,1], 'bo')\n",
    "plt.plot(cluster_2[:,0], cluster_2[:,1], 'gv')\n",
    "plt.show()"
   ]
  },
  {
   "cell_type": "markdown",
   "metadata": {},
   "source": [
    "## k means clustering, k = 3"
   ]
  },
  {
   "cell_type": "code",
   "execution_count": 18,
   "metadata": {
    "collapsed": false
   },
   "outputs": [
    {
     "data": {
      "text/plain": [
       "array([[-0.0050911 ,  0.02088067],\n",
       "       [ 3.74318773, -4.42533508],\n",
       "       [ 1.76892553, -2.80175846]])"
      ]
     },
     "execution_count": 18,
     "metadata": {},
     "output_type": "execute_result"
    }
   ],
   "source": [
    "kmeans3 = cluster.KMeans(n_clusters = 3, n_init = 20)\n",
    "kmeans3.fit(X)\n",
    "\n",
    "kmeans3.cluster_centers_"
   ]
  },
  {
   "cell_type": "code",
   "execution_count": 19,
   "metadata": {
    "collapsed": false
   },
   "outputs": [
    {
     "data": {
      "text/plain": [
       "array([1, 2, 1, 1, 2, 1, 1, 2, 1, 1, 1, 1, 1, 1, 1, 1, 2, 1, 1, 1, 2, 1, 1,\n",
       "       1, 2, 1, 0, 0, 0, 0, 0, 0, 0, 0, 0, 0, 0, 0, 0, 0, 2, 0, 0, 0, 0, 0,\n",
       "       0, 0, 0, 0], dtype=int32)"
      ]
     },
     "execution_count": 19,
     "metadata": {},
     "output_type": "execute_result"
    }
   ],
   "source": [
    "kmeans3.labels_"
   ]
  },
  {
   "cell_type": "code",
   "execution_count": 20,
   "metadata": {
    "collapsed": false
   },
   "outputs": [
    {
     "data": {
      "text/plain": [
       "70.613325628833252"
      ]
     },
     "execution_count": 20,
     "metadata": {},
     "output_type": "execute_result"
    }
   ],
   "source": [
    "# within cluster sum of squares\n",
    "kmeans3.inertia_"
   ]
  },
  {
   "cell_type": "code",
   "execution_count": 21,
   "metadata": {
    "collapsed": false
   },
   "outputs": [
    {
     "data": {
      "image/png": "[encoded data removed]",
      "text/plain": [
       "<matplotlib.figure.Figure at 0x7f3f94c87110>"
      ]
     },
     "metadata": {},
     "output_type": "display_data"
    }
   ],
   "source": [
    "cluster_1 = X[kmeans3.labels_ == 0]\n",
    "cluster_2 = X[kmeans3.labels_ == 1]\n",
    "cluster_3 = X[kmeans3.labels_ == 2]\n",
    "\n",
    "plt.figure()\n",
    "plt.title('k means clustering, k = 3')\n",
    "plt.plot(cluster_1[:,0], cluster_1[:,1], 'bo')\n",
    "plt.plot(cluster_2[:,0], cluster_2[:,1], 'gv')\n",
    "plt.plot(cluster_3[:,0], cluster_3[:,1], 'rs')\n",
    "plt.show()"
   ]
  },
  {
   "cell_type": "markdown",
   "metadata": {},
   "source": [
    "## Evaluation"
   ]
  },
  {
   "cell_type": "code",
   "execution_count": 25,
   "metadata": {
    "collapsed": false
   },
   "outputs": [
    {
     "name": "stdout",
     "output_type": "stream",
     "text": [
      "Silhouette score, k = 2: 0.660487127446\n",
      "Silhouette score, k = 3: 0.505256487055\n"
     ]
    }
   ],
   "source": [
    "# Silhouette score\n",
    "# score = (b - a) / max(a,b)\n",
    "#    a: The mean distance between a sample and all other points in the same class.\n",
    "#    b: The mean distance between a sample and all other points in the next nearest cluster.\n",
    "\n",
    "from sklearn import metrics\n",
    "print('Silhouette score, k = 2: {}'.format(metrics.silhouette_score(X, kmeans2.labels_)))\n",
    "print('Silhouette score, k = 3: {}'.format(metrics.silhouette_score(X, kmeans3.labels_)))"
   ]
  }
 ],
 "metadata": {
  "kernelspec": {
   "display_name": "Python 2",
   "language": "python",
   "name": "python2"
  },
  "language_info": {
   "codemirror_mode": {
    "name": "ipython",
    "version": 2
   },
   "file_extension": ".py",
   "mimetype": "text/x-python",
   "name": "python",
   "nbconvert_exporter": "python",
   "pygments_lexer": "ipython2",
   "version": "2.7.11"
  }
 },
 "nbformat": 4,
 "nbformat_minor": 0
}
