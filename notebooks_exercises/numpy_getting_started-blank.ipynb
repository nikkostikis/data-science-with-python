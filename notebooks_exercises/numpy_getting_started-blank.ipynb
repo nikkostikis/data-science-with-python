{
 "cells": [
  {
   "cell_type": "markdown",
   "metadata": {},
   "source": [
    "# Getting started with NumPy"
   ]
  },
  {
   "cell_type": "code",
   "execution_count": 1,
   "metadata": {
    "collapsed": true
   },
   "outputs": [],
   "source": [
    "import numpy as np"
   ]
  },
  {
   "cell_type": "markdown",
   "metadata": {},
   "source": [
    "## Getting used to vectorization and broadcasting\n",
    "\n",
    "First, let's generate some test data. Generate a two-dimensional array with 10 rows and 4 columns, from a normal distribution with mean = 100 and standard deviation 20."
   ]
  },
  {
   "cell_type": "code",
   "execution_count": 2,
   "metadata": {
    "collapsed": false
   },
   "outputs": [
    {
     "data": {
      "text/plain": [
       "array([0, 1, 2, 3, 4, 5, 6, 7])"
      ]
     },
     "execution_count": 2,
     "metadata": {},
     "output_type": "execute_result"
    }
   ],
   "source": [
    "data = np.arange(8)\n",
    "data"
   ]
  },
  {
   "cell_type": "markdown",
   "metadata": {},
   "source": [
    "Round the data to one decimal place."
   ]
  },
  {
   "cell_type": "code",
   "execution_count": null,
   "metadata": {
    "collapsed": false
   },
   "outputs": [],
   "source": [
    "data = \n",
    "data"
   ]
  },
  {
   "cell_type": "markdown",
   "metadata": {},
   "source": [
    "Display the last 2 columns of rows 1-5 (let's agree that we start counting from 1 when using normal language)."
   ]
  },
  {
   "cell_type": "code",
   "execution_count": null,
   "metadata": {
    "collapsed": false
   },
   "outputs": [],
   "source": []
  },
  {
   "cell_type": "markdown",
   "metadata": {},
   "source": [
    "Now, set all data points > 130 to 0."
   ]
  },
  {
   "cell_type": "code",
   "execution_count": null,
   "metadata": {
    "collapsed": false
   },
   "outputs": [],
   "source": [
    "data = \n",
    "data"
   ]
  },
  {
   "cell_type": "markdown",
   "metadata": {},
   "source": [
    "Take the square root of all data points."
   ]
  },
  {
   "cell_type": "code",
   "execution_count": null,
   "metadata": {
    "collapsed": false
   },
   "outputs": [],
   "source": [
    "data = \n",
    "data"
   ]
  },
  {
   "cell_type": "markdown",
   "metadata": {},
   "source": [
    "Now, compute the mean and the standard deviation over all data points."
   ]
  },
  {
   "cell_type": "code",
   "execution_count": null,
   "metadata": {
    "collapsed": false
   },
   "outputs": [],
   "source": [
    "mean, sd = \n",
    "mean, sd"
   ]
  },
  {
   "cell_type": "markdown",
   "metadata": {},
   "source": [
    "Then, compute the row means and standard deviations."
   ]
  },
  {
   "cell_type": "code",
   "execution_count": null,
   "metadata": {
    "collapsed": false
   },
   "outputs": [],
   "source": [
    "row_ms, row_sds = \n",
    "row_ms, row_sds"
   ]
  },
  {
   "cell_type": "markdown",
   "metadata": {},
   "source": [
    "Finally, compute column means and standard deviations."
   ]
  },
  {
   "cell_type": "code",
   "execution_count": null,
   "metadata": {
    "collapsed": false
   },
   "outputs": [],
   "source": [
    "col_ms, col_sds = \n",
    "col_ms, col_sds"
   ]
  },
  {
   "cell_type": "markdown",
   "metadata": {},
   "source": [
    "Now, compute the mean and standard deviation of column 2 without using NumPy's mean function."
   ]
  },
  {
   "cell_type": "code",
   "execution_count": null,
   "metadata": {
    "collapsed": false
   },
   "outputs": [],
   "source": [
    "data"
   ]
  },
  {
   "cell_type": "code",
   "execution_count": null,
   "metadata": {
    "collapsed": false
   },
   "outputs": [],
   "source": [
    "# take just column 2\n",
    "col2 = \n",
    "col2"
   ]
  },
  {
   "cell_type": "code",
   "execution_count": null,
   "metadata": {
    "collapsed": false
   },
   "outputs": [],
   "source": [
    "# calculate the mean\n",
    "mean_col2 = \n",
    "mean_col2"
   ]
  },
  {
   "cell_type": "code",
   "execution_count": null,
   "metadata": {
    "collapsed": false
   },
   "outputs": [],
   "source": [
    "# calculate the variance\n",
    "var_col2 = \n",
    "var_col2"
   ]
  },
  {
   "cell_type": "code",
   "execution_count": null,
   "metadata": {
    "collapsed": false
   },
   "outputs": [],
   "source": [
    "# calculate the standard deviation\n",
    "sd_col2 = \n",
    "sd_col2"
   ]
  },
  {
   "cell_type": "markdown",
   "metadata": {},
   "source": [
    "Now double check again using NumPy's mean and std functions."
   ]
  },
  {
   "cell_type": "code",
   "execution_count": null,
   "metadata": {
    "collapsed": false
   },
   "outputs": [],
   "source": []
  },
  {
   "cell_type": "code",
   "execution_count": null,
   "metadata": {
    "collapsed": false
   },
   "outputs": [],
   "source": []
  },
  {
   "cell_type": "markdown",
   "metadata": {},
   "source": [
    "## Linear regression from scratch"
   ]
  },
  {
   "cell_type": "markdown",
   "metadata": {
    "collapsed": true
   },
   "source": [
    "For practise with ndarrays and matrix operations, we are going to compute regression coefficients for linear regression ourselves.\n",
    "\n",
    "First, let's create some data. We have measured 2 variables:"
   ]
  },
  {
   "cell_type": "code",
   "execution_count": 4,
   "metadata": {
    "collapsed": false
   },
   "outputs": [
    {
     "data": {
      "text/plain": [
       "array([[ -3,  -2],\n",
       "       [  8,   4],\n",
       "       [ -6,   6],\n",
       "       [-10,  -1],\n",
       "       [  4,   6],\n",
       "       [  5,  -8],\n",
       "       [ -6,   5],\n",
       "       [ -2,   1],\n",
       "       [  4,  -7],\n",
       "       [  0,  -2],\n",
       "       [ -7,   0],\n",
       "       [  8,  -1],\n",
       "       [  9, -10],\n",
       "       [  4,  -9],\n",
       "       [  4,   5],\n",
       "       [ -3,   8],\n",
       "       [  5,  -1],\n",
       "       [ -1,  -8],\n",
       "       [ -3,   4],\n",
       "       [ -4,  -6]])"
      ]
     },
     "execution_count": 4,
     "metadata": {},
     "output_type": "execute_result"
    }
   ],
   "source": [
    "X = np.random.randint(-10,10,(20,2))\n",
    "X"
   ]
  },
  {
   "cell_type": "code",
   "execution_count": 5,
   "metadata": {
    "collapsed": false
   },
   "outputs": [
    {
     "data": {
      "text/plain": [
       "array([[  -3,  -38],\n",
       "       [   8,   82],\n",
       "       [  -6,  122],\n",
       "       [ -10,  -18],\n",
       "       [   4,  122],\n",
       "       [   5, -158],\n",
       "       [  -6,  102],\n",
       "       [  -2,   22],\n",
       "       [   4, -138],\n",
       "       [   0,  -38],\n",
       "       [  -7,    2],\n",
       "       [   8,  -18],\n",
       "       [   9, -198],\n",
       "       [   4, -178],\n",
       "       [   4,  102],\n",
       "       [  -3,  162],\n",
       "       [   5,  -18],\n",
       "       [  -1, -158],\n",
       "       [  -3,   82],\n",
       "       [  -4, -118]])"
      ]
     },
     "execution_count": 5,
     "metadata": {},
     "output_type": "execute_result"
    }
   ],
   "source": [
    "X[:,1] = X[:,1] * 20 + 2\n",
    "X"
   ]
  },
  {
   "cell_type": "markdown",
   "metadata": {},
   "source": [
    "We want to predict a target variable y.\n",
    "Of course, normally y would not be under our control ;-) But here, we are going to cheat ..."
   ]
  },
  {
   "cell_type": "code",
   "execution_count": 6,
   "metadata": {
    "collapsed": false
   },
   "outputs": [
    {
     "data": {
      "text/plain": [
       "array([  59,  -28, -110,   18,  -80,  203,  -90,    2,  180,   68,    7,\n",
       "         72,  255,  220,  -60, -141,   63,  185,  -61,  136])"
      ]
     },
     "execution_count": 6,
     "metadata": {},
     "output_type": "execute_result"
    }
   ],
   "source": [
    "y = 30 + 3 * X[:,0] - X[:,1]\n",
    "y"
   ]
  },
  {
   "cell_type": "markdown",
   "metadata": {},
   "source": [
    "To calculate the regression coefficients, we need to add a column of ones to the input matrix."
   ]
  },
  {
   "cell_type": "code",
   "execution_count": 7,
   "metadata": {
    "collapsed": false
   },
   "outputs": [
    {
     "data": {
      "text/plain": [
       "array([[ 1.],\n",
       "       [ 1.],\n",
       "       [ 1.],\n",
       "       [ 1.],\n",
       "       [ 1.],\n",
       "       [ 1.],\n",
       "       [ 1.],\n",
       "       [ 1.],\n",
       "       [ 1.],\n",
       "       [ 1.],\n",
       "       [ 1.],\n",
       "       [ 1.],\n",
       "       [ 1.],\n",
       "       [ 1.],\n",
       "       [ 1.],\n",
       "       [ 1.],\n",
       "       [ 1.],\n",
       "       [ 1.],\n",
       "       [ 1.],\n",
       "       [ 1.]])"
      ]
     },
     "execution_count": 7,
     "metadata": {},
     "output_type": "execute_result"
    }
   ],
   "source": [
    "ones = np.ones((20,1))\n",
    "ones"
   ]
  },
  {
   "cell_type": "code",
   "execution_count": 8,
   "metadata": {
    "collapsed": false
   },
   "outputs": [
    {
     "data": {
      "text/plain": [
       "array([[   1.,   -3.,  -38.],\n",
       "       [   1.,    8.,   82.],\n",
       "       [   1.,   -6.,  122.],\n",
       "       [   1.,  -10.,  -18.],\n",
       "       [   1.,    4.,  122.],\n",
       "       [   1.,    5., -158.],\n",
       "       [   1.,   -6.,  102.],\n",
       "       [   1.,   -2.,   22.],\n",
       "       [   1.,    4., -138.],\n",
       "       [   1.,    0.,  -38.],\n",
       "       [   1.,   -7.,    2.],\n",
       "       [   1.,    8.,  -18.],\n",
       "       [   1.,    9., -198.],\n",
       "       [   1.,    4., -178.],\n",
       "       [   1.,    4.,  102.],\n",
       "       [   1.,   -3.,  162.],\n",
       "       [   1.,    5.,  -18.],\n",
       "       [   1.,   -1., -158.],\n",
       "       [   1.,   -3.,   82.],\n",
       "       [   1.,   -4., -118.]])"
      ]
     },
     "execution_count": 8,
     "metadata": {},
     "output_type": "execute_result"
    }
   ],
   "source": [
    "X = np.append(ones, X, axis=1)\n",
    "X"
   ]
  },
  {
   "cell_type": "markdown",
   "metadata": {},
   "source": [
    "## Calculate regression coefficients"
   ]
  },
  {
   "cell_type": "markdown",
   "metadata": {},
   "source": [
    "Now, calculate the regression coefficients.\n",
    "\n",
    "The formula is\n",
    "\n",
    "$\n",
    "\\mathbf{\\hat{B}} = (\\mathbf{X}\\mathbf{X}^T)^{-1} \\mathbf{X}^T \\mathbf{y}\n",
    "$\n",
    "\n",
    "Let's calculate this step by step."
   ]
  },
  {
   "cell_type": "code",
   "execution_count": null,
   "metadata": {
    "collapsed": false
   },
   "outputs": [],
   "source": [
    "# X transpose\n",
    "X_transpose = \n",
    "X_transpose"
   ]
  },
  {
   "cell_type": "code",
   "execution_count": null,
   "metadata": {
    "collapsed": false
   },
   "outputs": [],
   "source": [
    "# X transpose * X\n",
    "X_t_X = \n",
    "X_t_X"
   ]
  },
  {
   "cell_type": "code",
   "execution_count": null,
   "metadata": {
    "collapsed": false
   },
   "outputs": [],
   "source": [
    "# inverse of (X transpose * X)\n",
    "# use np.linalg.inv\n",
    "inverse = "
   ]
  },
  {
   "cell_type": "code",
   "execution_count": null,
   "metadata": {
    "collapsed": false
   },
   "outputs": [],
   "source": [
    "# multiply this inverse with X transpose\n",
    "inverse_X_t = \n",
    "inverse_X_t"
   ]
  },
  {
   "cell_type": "code",
   "execution_count": null,
   "metadata": {
    "collapsed": false
   },
   "outputs": [],
   "source": [
    "# now multiply this with y\n",
    "B = "
   ]
  },
  {
   "cell_type": "markdown",
   "metadata": {},
   "source": [
    "Now these are the intercept and the regression coefficients of our 2 predictors!"
   ]
  }
 ],
 "metadata": {
  "kernelspec": {
   "display_name": "Python 2",
   "language": "python",
   "name": "python2"
  },
  "language_info": {
   "codemirror_mode": {
    "name": "ipython",
    "version": 2
   },
   "file_extension": ".py",
   "mimetype": "text/x-python",
   "name": "python",
   "nbconvert_exporter": "python",
   "pygments_lexer": "ipython2",
   "version": "2.7.11"
  }
 },
 "nbformat": 4,
 "nbformat_minor": 0
}
