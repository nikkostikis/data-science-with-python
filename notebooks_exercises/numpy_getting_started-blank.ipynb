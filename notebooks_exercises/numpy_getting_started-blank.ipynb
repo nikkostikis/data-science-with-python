{
 "cells": [
  {
   "cell_type": "markdown",
   "metadata": {},
   "source": [
    "# Getting started with NumPy"
   ]
  },
  {
   "cell_type": "code",
   "execution_count": 1,
   "metadata": {
    "collapsed": true
   },
   "outputs": [],
   "source": [
    "import numpy as np"
   ]
  },
  {
   "cell_type": "markdown",
   "metadata": {},
   "source": [
    "## Getting used to vectorization and broadcasting\n",
    "\n",
    "First, let's generate some test data. Generate a two-dimensional array with 10 rows and 4 columns, from a normal distribution with mean = 100 and standard deviation 20."
   ]
  },
  {
   "cell_type": "code",
   "execution_count": 2,
   "metadata": {
    "collapsed": false
   },
   "outputs": [
    {
     "data": {
      "text/plain": [
       "array([[  81.21791578,   72.58976397,  105.04234627,  129.37064597],\n",
       "       [ 110.28787522,   82.37075999,   82.41293525,   74.66888214],\n",
       "       [  94.87784966,  140.14690917,  110.20810429,  127.77686892],\n",
       "       [ 106.34539585,  102.26758466,  110.03036272,  136.74775068],\n",
       "       [ 134.3294198 ,   97.69758834,  114.29490153,  109.82299198],\n",
       "       [ 121.91325329,   95.3176566 ,  122.99379858,  111.69982983],\n",
       "       [ 111.60500245,  106.42323119,   77.36161569,   83.22961653],\n",
       "       [ 100.70169929,  111.70501412,   91.24326498,   86.64841803],\n",
       "       [  75.95686274,   99.55455463,  123.83890829,   97.81606041],\n",
       "       [ 122.14576486,   80.78062252,   93.4670416 ,   80.23398489]])"
      ]
     },
     "execution_count": 2,
     "metadata": {},
     "output_type": "execute_result"
    }
   ],
   "source": [
    "data = \n",
    "data"
   ]
  },
  {
   "cell_type": "markdown",
   "metadata": {},
   "source": [
    "Round the data to one decimal place."
   ]
  },
  {
   "cell_type": "code",
   "execution_count": 3,
   "metadata": {
    "collapsed": false
   },
   "outputs": [
    {
     "data": {
      "text/plain": [
       "array([[  81.2,   72.6,  105. ,  129.4],\n",
       "       [ 110.3,   82.4,   82.4,   74.7],\n",
       "       [  94.9,  140.1,  110.2,  127.8],\n",
       "       [ 106.3,  102.3,  110. ,  136.7],\n",
       "       [ 134.3,   97.7,  114.3,  109.8],\n",
       "       [ 121.9,   95.3,  123. ,  111.7],\n",
       "       [ 111.6,  106.4,   77.4,   83.2],\n",
       "       [ 100.7,  111.7,   91.2,   86.6],\n",
       "       [  76. ,   99.6,  123.8,   97.8],\n",
       "       [ 122.1,   80.8,   93.5,   80.2]])"
      ]
     },
     "execution_count": 3,
     "metadata": {},
     "output_type": "execute_result"
    }
   ],
   "source": [
    "data = \n",
    "data"
   ]
  },
  {
   "cell_type": "markdown",
   "metadata": {},
   "source": [
    "Display the last 2 columns of rows 1-5 (let's agree that we start counting from 1 when using normal language)."
   ]
  },
  {
   "cell_type": "code",
   "execution_count": 4,
   "metadata": {
    "collapsed": false
   },
   "outputs": [
    {
     "data": {
      "text/plain": [
       "array([[ 105. ,  129.4],\n",
       "       [  82.4,   74.7],\n",
       "       [ 110.2,  127.8],\n",
       "       [ 110. ,  136.7],\n",
       "       [ 114.3,  109.8]])"
      ]
     },
     "execution_count": 4,
     "metadata": {},
     "output_type": "execute_result"
    }
   ],
   "source": []
  },
  {
   "cell_type": "markdown",
   "metadata": {},
   "source": [
    "Now, set all data points > 130 to 0."
   ]
  },
  {
   "cell_type": "code",
   "execution_count": 5,
   "metadata": {
    "collapsed": false
   },
   "outputs": [
    {
     "data": {
      "text/plain": [
       "array([[  81.2,   72.6,  105. ,  129.4],\n",
       "       [ 110.3,   82.4,   82.4,   74.7],\n",
       "       [  94.9,    0. ,  110.2,  127.8],\n",
       "       [ 106.3,  102.3,  110. ,    0. ],\n",
       "       [   0. ,   97.7,  114.3,  109.8],\n",
       "       [ 121.9,   95.3,  123. ,  111.7],\n",
       "       [ 111.6,  106.4,   77.4,   83.2],\n",
       "       [ 100.7,  111.7,   91.2,   86.6],\n",
       "       [  76. ,   99.6,  123.8,   97.8],\n",
       "       [ 122.1,   80.8,   93.5,   80.2]])"
      ]
     },
     "execution_count": 5,
     "metadata": {},
     "output_type": "execute_result"
    }
   ],
   "source": [
    "data = \n",
    "data"
   ]
  },
  {
   "cell_type": "markdown",
   "metadata": {},
   "source": [
    "Take the square root of all data points."
   ]
  },
  {
   "cell_type": "code",
   "execution_count": 6,
   "metadata": {
    "collapsed": false
   },
   "outputs": [
    {
     "data": {
      "text/plain": [
       "array([[  9.01110426,   8.52056336,  10.24695077,  11.37541208],\n",
       "       [ 10.50238068,   9.07744457,   9.07744457,   8.64291617],\n",
       "       [  9.7416631 ,   0.        ,  10.49761878,  11.30486621],\n",
       "       [ 10.31018914,  10.11434625,  10.48808848,   0.        ],\n",
       "       [  0.        ,   9.88433103,  10.69111781,  10.47854952],\n",
       "       [ 11.0408333 ,   9.76217189,  11.09053651,  10.56882207],\n",
       "       [ 10.56409012,  10.31503757,   8.79772698,   9.1214034 ],\n",
       "       [ 10.03493896,  10.56882207,   9.54986911,   9.3059121 ],\n",
       "       [  8.71779789,   9.97997996,  11.12654484,   9.88938825],\n",
       "       [ 11.04988688,   8.98888202,   9.6695398 ,   8.95544527]])"
      ]
     },
     "execution_count": 6,
     "metadata": {},
     "output_type": "execute_result"
    }
   ],
   "source": [
    "data = \n",
    "data"
   ]
  },
  {
   "cell_type": "markdown",
   "metadata": {},
   "source": [
    "Now, compute the mean and the standard deviation over all data points."
   ]
  },
  {
   "cell_type": "code",
   "execution_count": 7,
   "metadata": {
    "collapsed": false
   },
   "outputs": [
    {
     "data": {
      "text/plain": [
       "(9.2265653943648349, 2.7414395896151467)"
      ]
     },
     "execution_count": 7,
     "metadata": {},
     "output_type": "execute_result"
    }
   ],
   "source": [
    "mean, sd = \n",
    "mean, sd"
   ]
  },
  {
   "cell_type": "markdown",
   "metadata": {},
   "source": [
    "Then, compute the row means and standard deviations."
   ]
  },
  {
   "cell_type": "code",
   "execution_count": 8,
   "metadata": {
    "collapsed": false
   },
   "outputs": [
    {
     "data": {
      "text/plain": [
       "(array([  9.78850762,   9.3250465 ,   7.88603702,   7.72815597,\n",
       "          7.76349959,  10.61559094,   9.69956452,   9.86488556,\n",
       "          9.92842773,   9.66593849]),\n",
       " array([ 1.11135891,  0.70250107,  4.58643871,  4.46381063,  4.49200113,\n",
       "         0.53313126,  0.75395504,  0.48376944,  0.8522457 ,  0.84831188]))"
      ]
     },
     "execution_count": 8,
     "metadata": {},
     "output_type": "execute_result"
    }
   ],
   "source": [
    "row_ms, row_sds = \n",
    "row_ms, row_sds"
   ]
  },
  {
   "cell_type": "markdown",
   "metadata": {},
   "source": [
    "Finally, compute column means and standard deviations."
   ]
  },
  {
   "cell_type": "code",
   "execution_count": 9,
   "metadata": {
    "collapsed": false
   },
   "outputs": [
    {
     "data": {
      "text/plain": [
       "(array([  9.09728843,   8.72115787,  10.12354376,   8.96427151]),\n",
       " array([ 3.12079207,  2.97008508,  0.7706242 ,  3.12439375]))"
      ]
     },
     "execution_count": 9,
     "metadata": {},
     "output_type": "execute_result"
    }
   ],
   "source": [
    "col_ms, col_sds = \n",
    "col_ms, col_sds"
   ]
  },
  {
   "cell_type": "markdown",
   "metadata": {},
   "source": [
    "Now, compute the mean and standard deviation of column 2 without using NumPy's mean function."
   ]
  },
  {
   "cell_type": "code",
   "execution_count": 10,
   "metadata": {
    "collapsed": false
   },
   "outputs": [
    {
     "data": {
      "text/plain": [
       "array([[  9.01110426,   8.52056336,  10.24695077,  11.37541208],\n",
       "       [ 10.50238068,   9.07744457,   9.07744457,   8.64291617],\n",
       "       [  9.7416631 ,   0.        ,  10.49761878,  11.30486621],\n",
       "       [ 10.31018914,  10.11434625,  10.48808848,   0.        ],\n",
       "       [  0.        ,   9.88433103,  10.69111781,  10.47854952],\n",
       "       [ 11.0408333 ,   9.76217189,  11.09053651,  10.56882207],\n",
       "       [ 10.56409012,  10.31503757,   8.79772698,   9.1214034 ],\n",
       "       [ 10.03493896,  10.56882207,   9.54986911,   9.3059121 ],\n",
       "       [  8.71779789,   9.97997996,  11.12654484,   9.88938825],\n",
       "       [ 11.04988688,   8.98888202,   9.6695398 ,   8.95544527]])"
      ]
     },
     "execution_count": 10,
     "metadata": {},
     "output_type": "execute_result"
    }
   ],
   "source": [
    "data"
   ]
  },
  {
   "cell_type": "code",
   "execution_count": 11,
   "metadata": {
    "collapsed": false
   },
   "outputs": [
    {
     "data": {
      "text/plain": [
       "array([  8.52056336,   9.07744457,   0.        ,  10.11434625,\n",
       "         9.88433103,   9.76217189,  10.31503757,  10.56882207,\n",
       "         9.97997996,   8.98888202])"
      ]
     },
     "execution_count": 11,
     "metadata": {},
     "output_type": "execute_result"
    }
   ],
   "source": [
    "# take just column 2\n",
    "col2 = \n",
    "col2"
   ]
  },
  {
   "cell_type": "code",
   "execution_count": 12,
   "metadata": {
    "collapsed": false
   },
   "outputs": [
    {
     "data": {
      "text/plain": [
       "8.7211578727462395"
      ]
     },
     "execution_count": 12,
     "metadata": {},
     "output_type": "execute_result"
    }
   ],
   "source": [
    "# calculate the mean\n",
    "mean_col2 = \n",
    "mean_col2"
   ]
  },
  {
   "cell_type": "code",
   "execution_count": 13,
   "metadata": {
    "collapsed": false
   },
   "outputs": [
    {
     "data": {
      "text/plain": [
       "8.8214053586362979"
      ]
     },
     "execution_count": 13,
     "metadata": {},
     "output_type": "execute_result"
    }
   ],
   "source": [
    "# calculate the variance\n",
    "var_col2 = \n",
    "var_col2"
   ]
  },
  {
   "cell_type": "code",
   "execution_count": 14,
   "metadata": {
    "collapsed": false
   },
   "outputs": [
    {
     "data": {
      "text/plain": [
       "2.970085075992992"
      ]
     },
     "execution_count": 14,
     "metadata": {},
     "output_type": "execute_result"
    }
   ],
   "source": [
    "# calculate the standard deviation\n",
    "sd_col2 = \n",
    "sd_col2"
   ]
  },
  {
   "cell_type": "markdown",
   "metadata": {},
   "source": [
    "Now double check again using NumPy's mean and std functions."
   ]
  },
  {
   "cell_type": "code",
   "execution_count": 15,
   "metadata": {
    "collapsed": false
   },
   "outputs": [
    {
     "data": {
      "text/plain": [
       "8.7211578727462395"
      ]
     },
     "execution_count": 15,
     "metadata": {},
     "output_type": "execute_result"
    }
   ],
   "source": []
  },
  {
   "cell_type": "code",
   "execution_count": 16,
   "metadata": {
    "collapsed": false
   },
   "outputs": [
    {
     "data": {
      "text/plain": [
       "2.970085075992992"
      ]
     },
     "execution_count": 16,
     "metadata": {},
     "output_type": "execute_result"
    }
   ],
   "source": []
  },
  {
   "cell_type": "markdown",
   "metadata": {},
   "source": [
    "## Linear regression from scratch"
   ]
  },
  {
   "cell_type": "markdown",
   "metadata": {
    "collapsed": true
   },
   "source": [
    "For practise with ndarrays and matrix operations, we are going to compute regression coefficients for linear regression ourselves.\n",
    "\n",
    "First, let's create some data. We have measured 2 variables:"
   ]
  },
  {
   "cell_type": "code",
   "execution_count": 21,
   "metadata": {
    "collapsed": false
   },
   "outputs": [
    {
     "data": {
      "text/plain": [
       "array([[ 3, -2],\n",
       "       [-1,  1],\n",
       "       [ 9,  0],\n",
       "       [-9, -6],\n",
       "       [ 3, -4],\n",
       "       [ 3,  2],\n",
       "       [ 6,  8],\n",
       "       [-7,  1],\n",
       "       [ 3,  4],\n",
       "       [ 7, -9],\n",
       "       [ 7, -1],\n",
       "       [ 6, -3],\n",
       "       [ 9,  7],\n",
       "       [-7,  6],\n",
       "       [-9, -5],\n",
       "       [-1,  5],\n",
       "       [-2,  3],\n",
       "       [ 3, -6],\n",
       "       [ 5,  4],\n",
       "       [ 8, -6]])"
      ]
     },
     "execution_count": 21,
     "metadata": {},
     "output_type": "execute_result"
    }
   ],
   "source": [
    "X = np.random.randint(-10,10,(20,2))\n",
    "X"
   ]
  },
  {
   "cell_type": "code",
   "execution_count": 22,
   "metadata": {
    "collapsed": false
   },
   "outputs": [
    {
     "data": {
      "text/plain": [
       "array([[   3,  -38],\n",
       "       [  -1,   22],\n",
       "       [   9,    2],\n",
       "       [  -9, -118],\n",
       "       [   3,  -78],\n",
       "       [   3,   42],\n",
       "       [   6,  162],\n",
       "       [  -7,   22],\n",
       "       [   3,   82],\n",
       "       [   7, -178],\n",
       "       [   7,  -18],\n",
       "       [   6,  -58],\n",
       "       [   9,  142],\n",
       "       [  -7,  122],\n",
       "       [  -9,  -98],\n",
       "       [  -1,  102],\n",
       "       [  -2,   62],\n",
       "       [   3, -118],\n",
       "       [   5,   82],\n",
       "       [   8, -118]])"
      ]
     },
     "execution_count": 22,
     "metadata": {},
     "output_type": "execute_result"
    }
   ],
   "source": [
    "X[:,1] = X[:,1] * 20 + 2\n",
    "X"
   ]
  },
  {
   "cell_type": "markdown",
   "metadata": {},
   "source": [
    "We want to predict a target variable y.\n",
    "Of course, normally y would not be under our control ;-) But here, we are going to cheat ..."
   ]
  },
  {
   "cell_type": "code",
   "execution_count": 24,
   "metadata": {
    "collapsed": false
   },
   "outputs": [
    {
     "data": {
      "text/plain": [
       "array([  77,    5,   55,  121,  117,   -3, -114,  -13,  -43,  229,   69,\n",
       "        106,  -85, -113,  101,  -75,  -38,  157,  -37,  172])"
      ]
     },
     "execution_count": 24,
     "metadata": {},
     "output_type": "execute_result"
    }
   ],
   "source": [
    "y = 30 + 3 * X[:,0] - X[:,1]\n",
    "y"
   ]
  },
  {
   "cell_type": "markdown",
   "metadata": {},
   "source": [
    "To calculate the regression coefficients, we need to add a column of ones to the input matrix."
   ]
  },
  {
   "cell_type": "code",
   "execution_count": 1,
   "metadata": {
    "collapsed": false
   },
   "outputs": [
    {
     "ename": "NameError",
     "evalue": "name 'np' is not defined",
     "output_type": "error",
     "traceback": [
      "\u001b[1;31m---------------------------------------------------------------------------\u001b[0m",
      "\u001b[1;31mNameError\u001b[0m                                 Traceback (most recent call last)",
      "\u001b[1;32m<ipython-input-1-361a6ef994d4>\u001b[0m in \u001b[0;36m<module>\u001b[1;34m()\u001b[0m\n\u001b[1;32m----> 1\u001b[1;33m \u001b[0mones\u001b[0m \u001b[1;33m=\u001b[0m \u001b[0mnp\u001b[0m\u001b[1;33m.\u001b[0m\u001b[0mones\u001b[0m\u001b[1;33m(\u001b[0m\u001b[1;33m(\u001b[0m\u001b[1;36m20\u001b[0m\u001b[1;33m,\u001b[0m\u001b[1;36m1\u001b[0m\u001b[1;33m)\u001b[0m\u001b[1;33m)\u001b[0m\u001b[1;33m\u001b[0m\u001b[0m\n\u001b[0m\u001b[0;32m      2\u001b[0m \u001b[0mones\u001b[0m\u001b[1;33m\u001b[0m\u001b[0m\n",
      "\u001b[1;31mNameError\u001b[0m: name 'np' is not defined"
     ]
    }
   ],
   "source": [
    "ones = np.ones((20,1))\n",
    "ones"
   ]
  },
  {
   "cell_type": "code",
   "execution_count": 26,
   "metadata": {
    "collapsed": false
   },
   "outputs": [
    {
     "data": {
      "text/plain": [
       "array([[   1.,    3.,  -38.],\n",
       "       [   1.,   -1.,   22.],\n",
       "       [   1.,    9.,    2.],\n",
       "       [   1.,   -9., -118.],\n",
       "       [   1.,    3.,  -78.],\n",
       "       [   1.,    3.,   42.],\n",
       "       [   1.,    6.,  162.],\n",
       "       [   1.,   -7.,   22.],\n",
       "       [   1.,    3.,   82.],\n",
       "       [   1.,    7., -178.],\n",
       "       [   1.,    7.,  -18.],\n",
       "       [   1.,    6.,  -58.],\n",
       "       [   1.,    9.,  142.],\n",
       "       [   1.,   -7.,  122.],\n",
       "       [   1.,   -9.,  -98.],\n",
       "       [   1.,   -1.,  102.],\n",
       "       [   1.,   -2.,   62.],\n",
       "       [   1.,    3., -118.],\n",
       "       [   1.,    5.,   82.],\n",
       "       [   1.,    8., -118.]])"
      ]
     },
     "execution_count": 26,
     "metadata": {},
     "output_type": "execute_result"
    }
   ],
   "source": [
    "X = np.append(ones, X, axis=1)\n",
    "X"
   ]
  },
  {
   "cell_type": "markdown",
   "metadata": {},
   "source": [
    "## Calculate regression coefficients"
   ]
  },
  {
   "cell_type": "markdown",
   "metadata": {},
   "source": [
    "Now, calculate the regression coefficients.\n",
    "\n",
    "The formula is\n",
    "\n",
    "$\n",
    "\\mathbf{\\hat{B}} = (\\mathbf{X}\\mathbf{X}^T)^{-1} \\mathbf{X}^T \\mathbf{y}\n",
    "$\n",
    "\n",
    "Let's calculate this step by step."
   ]
  },
  {
   "cell_type": "code",
   "execution_count": 27,
   "metadata": {
    "collapsed": false
   },
   "outputs": [
    {
     "data": {
      "text/plain": [
       "array([[   1.,    1.,    1.,    1.,    1.,    1.,    1.,    1.,    1.,\n",
       "           1.,    1.,    1.,    1.,    1.,    1.,    1.,    1.,    1.,\n",
       "           1.,    1.],\n",
       "       [   3.,   -1.,    9.,   -9.,    3.,    3.,    6.,   -7.,    3.,\n",
       "           7.,    7.,    6.,    9.,   -7.,   -9.,   -1.,   -2.,    3.,\n",
       "           5.,    8.],\n",
       "       [ -38.,   22.,    2., -118.,  -78.,   42.,  162.,   22.,   82.,\n",
       "        -178.,  -18.,  -58.,  142.,  122.,  -98.,  102.,   62., -118.,\n",
       "          82., -118.]])"
      ]
     },
     "execution_count": 27,
     "metadata": {},
     "output_type": "execute_result"
    }
   ],
   "source": [
    "# X transpose\n",
    "X_transpose = \n",
    "X_transpose"
   ]
  },
  {
   "cell_type": "code",
   "execution_count": 28,
   "metadata": {
    "collapsed": false
   },
   "outputs": [
    {
     "data": {
      "text/plain": [
       "array([[  2.00000000e+01,   3.60000000e+01,   2.00000000e+01],\n",
       "       [  3.60000000e+01,   7.32000000e+02,   3.72000000e+02],\n",
       "       [  2.00000000e+01,   3.72000000e+02,   1.86000000e+05]])"
      ]
     },
     "execution_count": 28,
     "metadata": {},
     "output_type": "execute_result"
    }
   ],
   "source": [
    "# X transpose * X\n",
    "X_t_X = \n",
    "X_t_X"
   ]
  },
  {
   "cell_type": "code",
   "execution_count": 29,
   "metadata": {
    "collapsed": false
   },
   "outputs": [],
   "source": [
    "# inverse of (X transpose * X)\n",
    "# use np.linalg.inv\n",
    "inverse = "
   ]
  },
  {
   "cell_type": "code",
   "execution_count": 30,
   "metadata": {
    "collapsed": false
   },
   "outputs": [
    {
     "data": {
      "text/plain": [
       "array([[  4.67825242e-02,   5.75426770e-02,   3.05768613e-02,\n",
       "          7.91938500e-02,   4.68026576e-02,   4.67422573e-02,\n",
       "          3.85890923e-02,   7.37282065e-02,   4.67221239e-02,\n",
       "          3.60626382e-02,   3.59821045e-02,   3.86998262e-02,\n",
       "          3.05063943e-02,   7.36778730e-02,   7.91837833e-02,\n",
       "          5.75024102e-02,   6.02201319e-02,   4.68227910e-02,\n",
       "          4.13269474e-02,   3.33348498e-02],\n",
       "       [  1.90589948e-03,  -4.25738000e-03,   1.07984838e-02,\n",
       "         -1.58792692e-02,   2.01431022e-03,   1.68907801e-03,\n",
       "          5.86434332e-03,  -1.32583751e-02,   1.58066727e-03,\n",
       "          8.28600043e-03,   7.85235748e-03,   6.46060238e-03,\n",
       "          1.04190462e-02,  -1.35294019e-02,  -1.59334745e-02,\n",
       "         -4.47420147e-03,  -5.86595658e-03,   2.12272095e-03,\n",
       "          4.58099895e-03,   9.62355017e-03],\n",
       "       [ -2.13143253e-04,   1.20606945e-04,  -1.41321140e-05,\n",
       "         -6.11165532e-04,  -4.28416003e-04,   2.17402246e-04,\n",
       "          8.55089691e-04,   1.36868556e-04,   4.32674996e-04,\n",
       "         -9.77438951e-04,  -1.16347952e-04,  -3.28910433e-04,\n",
       "          7.39322510e-04,   6.75050430e-04,  -5.03529157e-04,\n",
       "          5.51152445e-04,   3.38589963e-04,  -6.43688753e-04,\n",
       "          4.27254459e-04,  -6.57240095e-04]])"
      ]
     },
     "execution_count": 30,
     "metadata": {},
     "output_type": "execute_result"
    }
   ],
   "source": [
    "# multiply this inverse with X transpose\n",
    "inverse_X_t = \n",
    "inverse_X_t"
   ]
  },
  {
   "cell_type": "code",
   "execution_count": 31,
   "metadata": {
    "collapsed": false
   },
   "outputs": [
    {
     "data": {
      "text/plain": [
       "array([ 30.,   3.,  -1.])"
      ]
     },
     "execution_count": 31,
     "metadata": {},
     "output_type": "execute_result"
    }
   ],
   "source": [
    "# now multiply this with y\n",
    "B = "
   ]
  },
  {
   "cell_type": "markdown",
   "metadata": {},
   "source": [
    "Now these are the intercept and the regression coefficients of our 2 predictors!"
   ]
  }
 ],
 "metadata": {
  "kernelspec": {
   "display_name": "Python 2",
   "language": "python",
   "name": "python2"
  },
  "language_info": {
   "codemirror_mode": {
    "name": "ipython",
    "version": 2
   },
   "file_extension": ".py",
   "mimetype": "text/x-python",
   "name": "python",
   "nbconvert_exporter": "python",
   "pygments_lexer": "ipython2",
   "version": "2.7.11"
  }
 },
 "nbformat": 4,
 "nbformat_minor": 0
}
