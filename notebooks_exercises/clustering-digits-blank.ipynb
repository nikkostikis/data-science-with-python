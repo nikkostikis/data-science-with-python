{
 "cells": [
  {
   "cell_type": "markdown",
   "metadata": {},
   "source": [
    "# Clustering: Digits dataset\n",
    "\n",
    "Scikit-learn includes the test set from  the NIST Optical Recognition of Handwritten Digits Data Set.\n",
    "The data set may be used for classification, as the true class information is available.\n",
    "\n",
    "We are, however, not going to use the target information here, except for informally comparing the unsupervised learning (clustering) results to the ground truth.\n",
    "\n",
    "## Load and inspect the data"
   ]
  },
  {
   "cell_type": "code",
   "execution_count": null,
   "metadata": {
    "collapsed": true
   },
   "outputs": [],
   "source": [
    "# the usual imports\n",
    "from __future__ import division\n",
    "import numpy as np\n",
    "import pandas as pd\n",
    "import matplotlib.pyplot as plt\n",
    "%matplotlib inline"
   ]
  },
  {
   "cell_type": "code",
   "execution_count": null,
   "metadata": {
    "collapsed": false
   },
   "outputs": [],
   "source": [
    "from sklearn.datasets import load_digits\n",
    "digits = load_digits()\n",
    "digits.data.shape"
   ]
  },
  {
   "cell_type": "code",
   "execution_count": null,
   "metadata": {
    "collapsed": false
   },
   "outputs": [],
   "source": [
    "digits.DESCR"
   ]
  },
  {
   "cell_type": "code",
   "execution_count": null,
   "metadata": {
    "collapsed": false
   },
   "outputs": [],
   "source": [
    "digits.images[0]"
   ]
  },
  {
   "cell_type": "code",
   "execution_count": null,
   "metadata": {
    "collapsed": false
   },
   "outputs": [],
   "source": [
    "plt.gray() \n",
    "for i in range(5): plt.matshow(digits.images[i])"
   ]
  },
  {
   "cell_type": "code",
   "execution_count": null,
   "metadata": {
    "collapsed": true
   },
   "outputs": [],
   "source": [
    "X = digits.data\n",
    "\n",
    "# y contains the true classes, but we are not going to use them for learning\n",
    "y = digits.target"
   ]
  },
  {
   "cell_type": "markdown",
   "metadata": {},
   "source": [
    "## Zeros and Ones\n",
    "\n",
    "First, let's look at 0s and 1s only, which should look rather different overall ;-)"
   ]
  },
  {
   "cell_type": "code",
   "execution_count": null,
   "metadata": {
    "collapsed": false
   },
   "outputs": [],
   "source": [
    "# subset of data set containing 0s and 1s only\n",
    "X01 = X[np.logical_or(y == 0, y==1)]\n",
    "X01"
   ]
  },
  {
   "cell_type": "code",
   "execution_count": null,
   "metadata": {
    "collapsed": false
   },
   "outputs": [],
   "source": [
    "# subset of true class data containing 0s and 1s only\n",
    "y01 = y[np.logical_or(y == 0, y==1)]\n",
    "y01"
   ]
  },
  {
   "cell_type": "markdown",
   "metadata": {},
   "source": [
    "Before clustering, we will perform dimensionality reduction using PCA.\n",
    "\n",
    "Looking at how much variance is explained by the various factors, how many factors would you chose to proceed with?"
   ]
  },
  {
   "cell_type": "code",
   "execution_count": null,
   "metadata": {
    "collapsed": false
   },
   "outputs": [],
   "source": [
    "from sklearn import decomposition\n",
    "### fill in missing code\n",
    "pca = \n",
    "\n",
    "\n",
    "pca.explained_variance_"
   ]
  },
  {
   "cell_type": "markdown",
   "metadata": {},
   "source": [
    "We want to plot the clusters in 2 dimensions, so (fully aware we are not going to make the \"best\" choice) we perform PCA with 2 components and proceed with the transformed data:"
   ]
  },
  {
   "cell_type": "code",
   "execution_count": null,
   "metadata": {
    "collapsed": false
   },
   "outputs": [],
   "source": [
    "X01_reduced = decomposition.PCA(n_components=2).fit_transform(X01)\n",
    "X01_reduced.shape"
   ]
  },
  {
   "cell_type": "markdown",
   "metadata": {},
   "source": [
    "Now perform k-means clustering on the transformed data.\n",
    "\n",
    "We know we have 2 different digits, so we tell the algorithm we want 2 clusters:"
   ]
  },
  {
   "cell_type": "code",
   "execution_count": null,
   "metadata": {
    "collapsed": false
   },
   "outputs": [],
   "source": [
    "from sklearn import cluster\n",
    "### fill in missing code\n",
    "kmeans01 = \n",
    "\n",
    "kmeans01.cluster_centers_"
   ]
  },
  {
   "cell_type": "markdown",
   "metadata": {},
   "source": [
    "Display cluster membership:"
   ]
  },
  {
   "cell_type": "code",
   "execution_count": null,
   "metadata": {
    "collapsed": false
   },
   "outputs": [],
   "source": [
    "print('cluster membership: {}\\n'.format(kmeans01.labels_))"
   ]
  },
  {
   "cell_type": "markdown",
   "metadata": {},
   "source": [
    "As we have the true classes, we can compare:"
   ]
  },
  {
   "cell_type": "code",
   "execution_count": null,
   "metadata": {
    "collapsed": false
   },
   "outputs": [],
   "source": [
    "# If this produces all False, re-run from PCA above\n",
    "y01 == kmeans01.labels_"
   ]
  },
  {
   "cell_type": "markdown",
   "metadata": {},
   "source": [
    "Now plot the clusters in 2d.\n",
    "\n",
    "In terms of the 2 principal compnonents, which digit is more homogeneous, 0 or 1?"
   ]
  },
  {
   "cell_type": "code",
   "execution_count": null,
   "metadata": {
    "collapsed": false
   },
   "outputs": [],
   "source": [
    "cluster_1 = X01_reduced[kmeans01.labels_ == 0]\n",
    "cluster_2 = X01_reduced[kmeans01.labels_ == 1]"
   ]
  },
  {
   "cell_type": "code",
   "execution_count": null,
   "metadata": {
    "collapsed": false
   },
   "outputs": [],
   "source": [
    "plt.figure()\n",
    "plt.title('k means clustering, k = 2')\n",
    "plt.plot(cluster_1[:,0], cluster_1[:,1], 'bo')\n",
    "plt.plot(cluster_2[:,0], cluster_2[:,1], 'gv')\n",
    "plt.show()"
   ]
  },
  {
   "cell_type": "markdown",
   "metadata": {
    "collapsed": true
   },
   "source": [
    "## Sevens and Ones\n",
    "\n",
    "Now, do the same with digits 1 and 7.\n",
    "\n",
    "How well does the clustering separate the digits?"
   ]
  },
  {
   "cell_type": "code",
   "execution_count": null,
   "metadata": {
    "collapsed": false
   },
   "outputs": [],
   "source": [
    "# subset of data set containing 7s and 1s only\n",
    "### fill in missing code\n",
    "X17 = \n",
    "X17"
   ]
  },
  {
   "cell_type": "code",
   "execution_count": null,
   "metadata": {
    "collapsed": false
   },
   "outputs": [],
   "source": [
    "# subset of true class data containing 7s and 1s only\n",
    "### fill in missing code\n",
    "y17 =\n",
    "y17"
   ]
  },
  {
   "cell_type": "code",
   "execution_count": null,
   "metadata": {
    "collapsed": false
   },
   "outputs": [],
   "source": [
    "# reduce to 2 components\n",
    "### fill in missing code\n",
    "X17_reduced = "
   ]
  },
  {
   "cell_type": "code",
   "execution_count": null,
   "metadata": {
    "collapsed": false
   },
   "outputs": [],
   "source": [
    "# cluster the reduced data\n",
    "### fill in missing code\n",
    "kmeans17 = "
   ]
  },
  {
   "cell_type": "code",
   "execution_count": null,
   "metadata": {
    "collapsed": false
   },
   "outputs": [],
   "source": [
    "# inspect cluster memberships\n",
    "print('cluster membership: {}\\n'.format(kmeans17.labels_))"
   ]
  },
  {
   "cell_type": "code",
   "execution_count": null,
   "metadata": {
    "collapsed": false
   },
   "outputs": [],
   "source": [
    "y17_classes = np.where(y17 == 7, 1, 0)\n",
    "# If this produces all False, re-run from PCA above\n",
    "y17_classes == kmeans17.labels_"
   ]
  },
  {
   "cell_type": "code",
   "execution_count": null,
   "metadata": {
    "collapsed": false
   },
   "outputs": [],
   "source": [
    "cluster_1 = X17_reduced[kmeans17.labels_ == 0]\n",
    "cluster_2 = X17_reduced[kmeans17.labels_ == 1]\n",
    "plt.figure()\n",
    "plt.title('k means clustering, k = 2')\n",
    "plt.plot(cluster_1[:,0], cluster_1[:,1], 'bo')\n",
    "plt.plot(cluster_2[:,0], cluster_2[:,1], 'gv')\n",
    "plt.show()"
   ]
  },
  {
   "cell_type": "markdown",
   "metadata": {},
   "source": [
    "Finally, look at some evaluation metrics. Do they make sense?"
   ]
  },
  {
   "cell_type": "code",
   "execution_count": null,
   "metadata": {
    "collapsed": false
   },
   "outputs": [],
   "source": [
    "# within cluster sum of squares\n",
    "kmeans01.inertia_, kmeans17.inertia_"
   ]
  },
  {
   "cell_type": "code",
   "execution_count": null,
   "metadata": {
    "collapsed": false
   },
   "outputs": [],
   "source": [
    "# Silhouette score\n",
    "# score = (b - a) / max(a,b)\n",
    "#    a: The mean distance between a sample and all other points in the same class.\n",
    "#    b: The mean distance between a sample and all other points in the next nearest cluster.\n",
    "\n",
    "from sklearn import metrics\n",
    "print('Silhouette score, 0 vs 1: {}'.format(metrics.silhouette_score(X01, kmeans01.labels_)))\n",
    "print('Silhouette score, 1 vs 7: {}'.format(metrics.silhouette_score(X17, kmeans17.labels_)))"
   ]
  }
 ],
 "metadata": {
  "kernelspec": {
   "display_name": "Python 2",
   "language": "python",
   "name": "python2"
  },
  "language_info": {
   "codemirror_mode": {
    "name": "ipython",
    "version": 2
   },
   "file_extension": ".py",
   "mimetype": "text/x-python",
   "name": "python",
   "nbconvert_exporter": "python",
   "pygments_lexer": "ipython2",
   "version": "2.7.11"
  }
 },
 "nbformat": 4,
 "nbformat_minor": 0
}
