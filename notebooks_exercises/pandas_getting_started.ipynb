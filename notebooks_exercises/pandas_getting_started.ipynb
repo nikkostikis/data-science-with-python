{
 "cells": [
  {
   "cell_type": "markdown",
   "metadata": {},
   "source": [
    "# Getting started with pandas"
   ]
  },
  {
   "cell_type": "code",
   "execution_count": 40,
   "metadata": {
    "collapsed": true
   },
   "outputs": [],
   "source": [
    "import numpy as np\n",
    "import pandas as pd"
   ]
  },
  {
   "cell_type": "markdown",
   "metadata": {},
   "source": [
    "## Playing around with Series\n",
    "\n",
    "To start, create a series from the following dict:"
   ]
  },
  {
   "cell_type": "code",
   "execution_count": 41,
   "metadata": {
    "collapsed": false
   },
   "outputs": [
    {
     "data": {
      "text/plain": [
       "{'a': 'Poisson', 'b': 'Binomial', 'c': 'Geometric', 'd': 'Logistic'}"
      ]
     },
     "execution_count": 41,
     "metadata": {},
     "output_type": "execute_result"
    }
   ],
   "source": [
    "d = dict({'a': 'Poisson', 'b': 'Binomial', 'c': 'Geometric', 'd': 'Logistic'})\n",
    "d"
   ]
  },
  {
   "cell_type": "code",
   "execution_count": 42,
   "metadata": {
    "collapsed": false
   },
   "outputs": [
    {
     "data": {
      "text/plain": [
       "a      Poisson\n",
       "b     Binomial\n",
       "c    Geometric\n",
       "d     Logistic\n",
       "dtype: object"
      ]
     },
     "execution_count": 42,
     "metadata": {},
     "output_type": "execute_result"
    }
   ],
   "source": [
    "s = pd.Series(d)\n",
    "s"
   ]
  },
  {
   "cell_type": "markdown",
   "metadata": {},
   "source": [
    "Convert the function names to lower case:"
   ]
  },
  {
   "cell_type": "code",
   "execution_count": 4,
   "metadata": {
    "collapsed": false
   },
   "outputs": [],
   "source": [
    "s = s.map(lambda x: x.lower())"
   ]
  },
  {
   "cell_type": "markdown",
   "metadata": {},
   "source": [
    "Now sort the series by value:"
   ]
  },
  {
   "cell_type": "code",
   "execution_count": 5,
   "metadata": {
    "collapsed": false
   },
   "outputs": [],
   "source": [
    "s.sort_values(inplace = True)"
   ]
  },
  {
   "cell_type": "code",
   "execution_count": 6,
   "metadata": {
    "collapsed": false
   },
   "outputs": [
    {
     "data": {
      "text/plain": [
       "b     binomial\n",
       "c    geometric\n",
       "d     logistic\n",
       "a      poisson\n",
       "dtype: object"
      ]
     },
     "execution_count": 6,
     "metadata": {},
     "output_type": "execute_result"
    }
   ],
   "source": [
    "s"
   ]
  },
  {
   "cell_type": "code",
   "execution_count": 7,
   "metadata": {
    "collapsed": false
   },
   "outputs": [
    {
     "data": {
      "text/plain": [
       "b     binomial\n",
       "c    geometric\n",
       "d     logistic\n",
       "a      poisson\n",
       "dtype: object"
      ]
     },
     "execution_count": 7,
     "metadata": {},
     "output_type": "execute_result"
    }
   ],
   "source": [
    "s"
   ]
  },
  {
   "cell_type": "markdown",
   "metadata": {},
   "source": [
    "## DataFrame: Indexing\n",
    "\n",
    "Create a 2-dimensional DataFrame with values from a standard normal distribution, in 6 rows and 3 columns, the column names being 'col1', 'col2' and 'col3', and the rows indexed by month names. "
   ]
  },
  {
   "cell_type": "code",
   "execution_count": 8,
   "metadata": {
    "collapsed": false
   },
   "outputs": [
    {
     "data": {
      "text/html": [
       "<div>\n",
       "<table border=\"1\" class=\"dataframe\">\n",
       "  <thead>\n",
       "    <tr style=\"text-align: right;\">\n",
       "      <th></th>\n",
       "      <th>col1</th>\n",
       "      <th>col2</th>\n",
       "      <th>col3</th>\n",
       "    </tr>\n",
       "  </thead>\n",
       "  <tbody>\n",
       "    <tr>\n",
       "      <th>jan</th>\n",
       "      <td>0.551377</td>\n",
       "      <td>0.858104</td>\n",
       "      <td>-0.387179</td>\n",
       "    </tr>\n",
       "    <tr>\n",
       "      <th>feb</th>\n",
       "      <td>-0.369639</td>\n",
       "      <td>0.948974</td>\n",
       "      <td>-0.076784</td>\n",
       "    </tr>\n",
       "    <tr>\n",
       "      <th>march</th>\n",
       "      <td>0.346490</td>\n",
       "      <td>-0.666580</td>\n",
       "      <td>0.390844</td>\n",
       "    </tr>\n",
       "    <tr>\n",
       "      <th>april</th>\n",
       "      <td>-1.212721</td>\n",
       "      <td>1.513246</td>\n",
       "      <td>-0.427556</td>\n",
       "    </tr>\n",
       "    <tr>\n",
       "      <th>mai</th>\n",
       "      <td>1.103943</td>\n",
       "      <td>-0.720872</td>\n",
       "      <td>-1.227869</td>\n",
       "    </tr>\n",
       "    <tr>\n",
       "      <th>june</th>\n",
       "      <td>1.285799</td>\n",
       "      <td>-0.845788</td>\n",
       "      <td>0.850882</td>\n",
       "    </tr>\n",
       "  </tbody>\n",
       "</table>\n",
       "</div>"
      ],
      "text/plain": [
       "           col1      col2      col3\n",
       "jan    0.551377  0.858104 -0.387179\n",
       "feb   -0.369639  0.948974 -0.076784\n",
       "march  0.346490 -0.666580  0.390844\n",
       "april -1.212721  1.513246 -0.427556\n",
       "mai    1.103943 -0.720872 -1.227869\n",
       "june   1.285799 -0.845788  0.850882"
      ]
     },
     "execution_count": 8,
     "metadata": {},
     "output_type": "execute_result"
    }
   ],
   "source": [
    "df = pd.DataFrame(np.random.randn(18).reshape(6,3), \n",
    "                  index = ['jan', 'feb', 'march', 'april', 'mai', 'june'],\n",
    "                  columns = ['col1', 'col2', 'col3'])\n",
    "df"
   ]
  },
  {
   "cell_type": "markdown",
   "metadata": {},
   "source": [
    "Now, display \n",
    "- col1 only\n",
    "- march only\n",
    "- col1 of march only\n",
    "- row 2 only (row 1 in 0-based thinking)\n",
    "- row 2, col2 only"
   ]
  },
  {
   "cell_type": "code",
   "execution_count": 9,
   "metadata": {
    "collapsed": false
   },
   "outputs": [
    {
     "data": {
      "text/plain": [
       "jan      0.551377\n",
       "feb     -0.369639\n",
       "march    0.346490\n",
       "april   -1.212721\n",
       "mai      1.103943\n",
       "june     1.285799\n",
       "Name: col1, dtype: float64"
      ]
     },
     "execution_count": 9,
     "metadata": {},
     "output_type": "execute_result"
    }
   ],
   "source": [
    "df['col1']\n",
    "# or: df.loc[:,'col1']"
   ]
  },
  {
   "cell_type": "code",
   "execution_count": 10,
   "metadata": {
    "collapsed": false
   },
   "outputs": [
    {
     "data": {
      "text/plain": [
       "col1    0.346490\n",
       "col2   -0.666580\n",
       "col3    0.390844\n",
       "Name: march, dtype: float64"
      ]
     },
     "execution_count": 10,
     "metadata": {},
     "output_type": "execute_result"
    }
   ],
   "source": [
    "df.loc['march']"
   ]
  },
  {
   "cell_type": "code",
   "execution_count": 11,
   "metadata": {
    "collapsed": false
   },
   "outputs": [
    {
     "data": {
      "text/plain": [
       "0.34648968953574677"
      ]
     },
     "execution_count": 11,
     "metadata": {},
     "output_type": "execute_result"
    }
   ],
   "source": [
    "df.loc['march', 'col1']"
   ]
  },
  {
   "cell_type": "code",
   "execution_count": 12,
   "metadata": {
    "collapsed": false
   },
   "outputs": [
    {
     "data": {
      "text/plain": [
       "col1   -0.369639\n",
       "col2    0.948974\n",
       "col3   -0.076784\n",
       "Name: feb, dtype: float64"
      ]
     },
     "execution_count": 12,
     "metadata": {},
     "output_type": "execute_result"
    }
   ],
   "source": [
    "df.iloc[1]"
   ]
  },
  {
   "cell_type": "code",
   "execution_count": 13,
   "metadata": {
    "collapsed": false
   },
   "outputs": [
    {
     "data": {
      "text/plain": [
       "0.94897392787452739"
      ]
     },
     "execution_count": 13,
     "metadata": {},
     "output_type": "execute_result"
    }
   ],
   "source": [
    "df.ix[1, 'col2']\n",
    "# df.iloc[1,1]"
   ]
  },
  {
   "cell_type": "markdown",
   "metadata": {},
   "source": [
    "Now add 10 to col2, and multiply march by 7:"
   ]
  },
  {
   "cell_type": "code",
   "execution_count": 14,
   "metadata": {
    "collapsed": false
   },
   "outputs": [
    {
     "data": {
      "text/html": [
       "<div>\n",
       "<table border=\"1\" class=\"dataframe\">\n",
       "  <thead>\n",
       "    <tr style=\"text-align: right;\">\n",
       "      <th></th>\n",
       "      <th>col1</th>\n",
       "      <th>col2</th>\n",
       "      <th>col3</th>\n",
       "    </tr>\n",
       "  </thead>\n",
       "  <tbody>\n",
       "    <tr>\n",
       "      <th>jan</th>\n",
       "      <td>0.551377</td>\n",
       "      <td>0.858104</td>\n",
       "      <td>-0.387179</td>\n",
       "    </tr>\n",
       "    <tr>\n",
       "      <th>feb</th>\n",
       "      <td>-0.369639</td>\n",
       "      <td>0.948974</td>\n",
       "      <td>-0.076784</td>\n",
       "    </tr>\n",
       "    <tr>\n",
       "      <th>march</th>\n",
       "      <td>2.425428</td>\n",
       "      <td>-4.666060</td>\n",
       "      <td>2.735905</td>\n",
       "    </tr>\n",
       "    <tr>\n",
       "      <th>april</th>\n",
       "      <td>-1.212721</td>\n",
       "      <td>1.513246</td>\n",
       "      <td>-0.427556</td>\n",
       "    </tr>\n",
       "    <tr>\n",
       "      <th>mai</th>\n",
       "      <td>1.103943</td>\n",
       "      <td>-0.720872</td>\n",
       "      <td>-1.227869</td>\n",
       "    </tr>\n",
       "    <tr>\n",
       "      <th>june</th>\n",
       "      <td>1.285799</td>\n",
       "      <td>-0.845788</td>\n",
       "      <td>0.850882</td>\n",
       "    </tr>\n",
       "  </tbody>\n",
       "</table>\n",
       "</div>"
      ],
      "text/plain": [
       "           col1      col2      col3\n",
       "jan    0.551377  0.858104 -0.387179\n",
       "feb   -0.369639  0.948974 -0.076784\n",
       "march  2.425428 -4.666060  2.735905\n",
       "april -1.212721  1.513246 -0.427556\n",
       "mai    1.103943 -0.720872 -1.227869\n",
       "june   1.285799 -0.845788  0.850882"
      ]
     },
     "execution_count": 14,
     "metadata": {},
     "output_type": "execute_result"
    }
   ],
   "source": [
    "df.loc['march'] = df.loc['march'] * 7\n",
    "df"
   ]
  },
  {
   "cell_type": "code",
   "execution_count": 15,
   "metadata": {
    "collapsed": false
   },
   "outputs": [
    {
     "data": {
      "text/html": [
       "<div>\n",
       "<table border=\"1\" class=\"dataframe\">\n",
       "  <thead>\n",
       "    <tr style=\"text-align: right;\">\n",
       "      <th></th>\n",
       "      <th>col1</th>\n",
       "      <th>col2</th>\n",
       "      <th>col3</th>\n",
       "    </tr>\n",
       "  </thead>\n",
       "  <tbody>\n",
       "    <tr>\n",
       "      <th>jan</th>\n",
       "      <td>0.551377</td>\n",
       "      <td>10.858104</td>\n",
       "      <td>-0.387179</td>\n",
       "    </tr>\n",
       "    <tr>\n",
       "      <th>feb</th>\n",
       "      <td>-0.369639</td>\n",
       "      <td>10.948974</td>\n",
       "      <td>-0.076784</td>\n",
       "    </tr>\n",
       "    <tr>\n",
       "      <th>march</th>\n",
       "      <td>2.425428</td>\n",
       "      <td>5.333940</td>\n",
       "      <td>2.735905</td>\n",
       "    </tr>\n",
       "    <tr>\n",
       "      <th>april</th>\n",
       "      <td>-1.212721</td>\n",
       "      <td>11.513246</td>\n",
       "      <td>-0.427556</td>\n",
       "    </tr>\n",
       "    <tr>\n",
       "      <th>mai</th>\n",
       "      <td>1.103943</td>\n",
       "      <td>9.279128</td>\n",
       "      <td>-1.227869</td>\n",
       "    </tr>\n",
       "    <tr>\n",
       "      <th>june</th>\n",
       "      <td>1.285799</td>\n",
       "      <td>9.154212</td>\n",
       "      <td>0.850882</td>\n",
       "    </tr>\n",
       "  </tbody>\n",
       "</table>\n",
       "</div>"
      ],
      "text/plain": [
       "           col1       col2      col3\n",
       "jan    0.551377  10.858104 -0.387179\n",
       "feb   -0.369639  10.948974 -0.076784\n",
       "march  2.425428   5.333940  2.735905\n",
       "april -1.212721  11.513246 -0.427556\n",
       "mai    1.103943   9.279128 -1.227869\n",
       "june   1.285799   9.154212  0.850882"
      ]
     },
     "execution_count": 15,
     "metadata": {},
     "output_type": "execute_result"
    }
   ],
   "source": [
    "df['col2'] = df['col2'] + 10\n",
    "df"
   ]
  },
  {
   "cell_type": "markdown",
   "metadata": {},
   "source": [
    "Now display statistical summary values:"
   ]
  },
  {
   "cell_type": "code",
   "execution_count": 16,
   "metadata": {
    "collapsed": false
   },
   "outputs": [
    {
     "data": {
      "text/html": [
       "<div>\n",
       "<table border=\"1\" class=\"dataframe\">\n",
       "  <thead>\n",
       "    <tr style=\"text-align: right;\">\n",
       "      <th></th>\n",
       "      <th>col1</th>\n",
       "      <th>col2</th>\n",
       "      <th>col3</th>\n",
       "    </tr>\n",
       "  </thead>\n",
       "  <tbody>\n",
       "    <tr>\n",
       "      <th>count</th>\n",
       "      <td>6.000000</td>\n",
       "      <td>6.000000</td>\n",
       "      <td>6.000000</td>\n",
       "    </tr>\n",
       "    <tr>\n",
       "      <th>mean</th>\n",
       "      <td>0.630698</td>\n",
       "      <td>9.514601</td>\n",
       "      <td>0.244567</td>\n",
       "    </tr>\n",
       "    <tr>\n",
       "      <th>std</th>\n",
       "      <td>1.286805</td>\n",
       "      <td>2.259215</td>\n",
       "      <td>1.392593</td>\n",
       "    </tr>\n",
       "    <tr>\n",
       "      <th>min</th>\n",
       "      <td>-1.212721</td>\n",
       "      <td>5.333940</td>\n",
       "      <td>-1.227869</td>\n",
       "    </tr>\n",
       "    <tr>\n",
       "      <th>25%</th>\n",
       "      <td>-0.139385</td>\n",
       "      <td>9.185441</td>\n",
       "      <td>-0.417462</td>\n",
       "    </tr>\n",
       "    <tr>\n",
       "      <th>50%</th>\n",
       "      <td>0.827660</td>\n",
       "      <td>10.068616</td>\n",
       "      <td>-0.231981</td>\n",
       "    </tr>\n",
       "    <tr>\n",
       "      <th>75%</th>\n",
       "      <td>1.240335</td>\n",
       "      <td>10.926256</td>\n",
       "      <td>0.618965</td>\n",
       "    </tr>\n",
       "    <tr>\n",
       "      <th>max</th>\n",
       "      <td>2.425428</td>\n",
       "      <td>11.513246</td>\n",
       "      <td>2.735905</td>\n",
       "    </tr>\n",
       "  </tbody>\n",
       "</table>\n",
       "</div>"
      ],
      "text/plain": [
       "           col1       col2      col3\n",
       "count  6.000000   6.000000  6.000000\n",
       "mean   0.630698   9.514601  0.244567\n",
       "std    1.286805   2.259215  1.392593\n",
       "min   -1.212721   5.333940 -1.227869\n",
       "25%   -0.139385   9.185441 -0.417462\n",
       "50%    0.827660  10.068616 -0.231981\n",
       "75%    1.240335  10.926256  0.618965\n",
       "max    2.425428  11.513246  2.735905"
      ]
     },
     "execution_count": 16,
     "metadata": {},
     "output_type": "execute_result"
    }
   ],
   "source": [
    "df.describe()"
   ]
  },
  {
   "cell_type": "markdown",
   "metadata": {},
   "source": [
    "Let's shortly explore joins. "
   ]
  },
  {
   "cell_type": "code",
   "execution_count": 17,
   "metadata": {
    "collapsed": false
   },
   "outputs": [
    {
     "data": {
      "text/html": [
       "<div>\n",
       "<table border=\"1\" class=\"dataframe\">\n",
       "  <thead>\n",
       "    <tr style=\"text-align: right;\">\n",
       "      <th></th>\n",
       "      <th>col2</th>\n",
       "      <th>col3</th>\n",
       "      <th>col4</th>\n",
       "    </tr>\n",
       "  </thead>\n",
       "  <tbody>\n",
       "    <tr>\n",
       "      <th>jan</th>\n",
       "      <td>-1.801662</td>\n",
       "      <td>-1.064133</td>\n",
       "      <td>0.967655</td>\n",
       "    </tr>\n",
       "    <tr>\n",
       "      <th>feb</th>\n",
       "      <td>0.856567</td>\n",
       "      <td>-1.062014</td>\n",
       "      <td>-1.141427</td>\n",
       "    </tr>\n",
       "    <tr>\n",
       "      <th>march</th>\n",
       "      <td>-0.196388</td>\n",
       "      <td>0.633393</td>\n",
       "      <td>-0.831512</td>\n",
       "    </tr>\n",
       "    <tr>\n",
       "      <th>mai</th>\n",
       "      <td>-1.808917</td>\n",
       "      <td>0.541732</td>\n",
       "      <td>0.381226</td>\n",
       "    </tr>\n",
       "    <tr>\n",
       "      <th>june</th>\n",
       "      <td>0.118262</td>\n",
       "      <td>-1.687769</td>\n",
       "      <td>-1.122145</td>\n",
       "    </tr>\n",
       "    <tr>\n",
       "      <th>july</th>\n",
       "      <td>0.923098</td>\n",
       "      <td>-1.454037</td>\n",
       "      <td>0.431288</td>\n",
       "    </tr>\n",
       "  </tbody>\n",
       "</table>\n",
       "</div>"
      ],
      "text/plain": [
       "           col2      col3      col4\n",
       "jan   -1.801662 -1.064133  0.967655\n",
       "feb    0.856567 -1.062014 -1.141427\n",
       "march -0.196388  0.633393 -0.831512\n",
       "mai   -1.808917  0.541732  0.381226\n",
       "june   0.118262 -1.687769 -1.122145\n",
       "july   0.923098 -1.454037  0.431288"
      ]
     },
     "execution_count": 17,
     "metadata": {},
     "output_type": "execute_result"
    }
   ],
   "source": [
    "df2 = pd.DataFrame(np.random.randn(18).reshape(6,3), \n",
    "                  index = ['jan', 'feb', 'march', 'mai', 'june', 'july'],\n",
    "                  columns = ['col2', 'col3', 'col4'])\n",
    "df2"
   ]
  },
  {
   "cell_type": "markdown",
   "metadata": {},
   "source": [
    "Use join() to join df and df2 on the index:"
   ]
  },
  {
   "cell_type": "code",
   "execution_count": 18,
   "metadata": {
    "collapsed": false
   },
   "outputs": [
    {
     "data": {
      "text/html": [
       "<div>\n",
       "<table border=\"1\" class=\"dataframe\">\n",
       "  <thead>\n",
       "    <tr style=\"text-align: right;\">\n",
       "      <th></th>\n",
       "      <th>col1</th>\n",
       "      <th>col2orig</th>\n",
       "      <th>col3orig</th>\n",
       "      <th>col2other</th>\n",
       "      <th>col3other</th>\n",
       "      <th>col4</th>\n",
       "    </tr>\n",
       "  </thead>\n",
       "  <tbody>\n",
       "    <tr>\n",
       "      <th>jan</th>\n",
       "      <td>0.551377</td>\n",
       "      <td>10.858104</td>\n",
       "      <td>-0.387179</td>\n",
       "      <td>-1.801662</td>\n",
       "      <td>-1.064133</td>\n",
       "      <td>0.967655</td>\n",
       "    </tr>\n",
       "    <tr>\n",
       "      <th>feb</th>\n",
       "      <td>-0.369639</td>\n",
       "      <td>10.948974</td>\n",
       "      <td>-0.076784</td>\n",
       "      <td>0.856567</td>\n",
       "      <td>-1.062014</td>\n",
       "      <td>-1.141427</td>\n",
       "    </tr>\n",
       "    <tr>\n",
       "      <th>march</th>\n",
       "      <td>2.425428</td>\n",
       "      <td>5.333940</td>\n",
       "      <td>2.735905</td>\n",
       "      <td>-0.196388</td>\n",
       "      <td>0.633393</td>\n",
       "      <td>-0.831512</td>\n",
       "    </tr>\n",
       "    <tr>\n",
       "      <th>mai</th>\n",
       "      <td>1.103943</td>\n",
       "      <td>9.279128</td>\n",
       "      <td>-1.227869</td>\n",
       "      <td>-1.808917</td>\n",
       "      <td>0.541732</td>\n",
       "      <td>0.381226</td>\n",
       "    </tr>\n",
       "    <tr>\n",
       "      <th>june</th>\n",
       "      <td>1.285799</td>\n",
       "      <td>9.154212</td>\n",
       "      <td>0.850882</td>\n",
       "      <td>0.118262</td>\n",
       "      <td>-1.687769</td>\n",
       "      <td>-1.122145</td>\n",
       "    </tr>\n",
       "  </tbody>\n",
       "</table>\n",
       "</div>"
      ],
      "text/plain": [
       "           col1   col2orig  col3orig  col2other  col3other      col4\n",
       "jan    0.551377  10.858104 -0.387179  -1.801662  -1.064133  0.967655\n",
       "feb   -0.369639  10.948974 -0.076784   0.856567  -1.062014 -1.141427\n",
       "march  2.425428   5.333940  2.735905  -0.196388   0.633393 -0.831512\n",
       "mai    1.103943   9.279128 -1.227869  -1.808917   0.541732  0.381226\n",
       "june   1.285799   9.154212  0.850882   0.118262  -1.687769 -1.122145"
      ]
     },
     "execution_count": 18,
     "metadata": {},
     "output_type": "execute_result"
    }
   ],
   "source": [
    "# specify how=<...> to change the default join mode from 'left' to e.g. 'inner'\n",
    "# as we have identically named columns in both dataframes, we need to specify suffixes\n",
    "j = df.join(df2, lsuffix = 'orig', rsuffix = 'other', how = 'inner')\n",
    "j"
   ]
  },
  {
   "cell_type": "markdown",
   "metadata": {},
   "source": [
    "Now use merge() to join on columns, doing a database-style join.\n",
    "To get a nonempty result, we first make some modifications to our dataframes."
   ]
  },
  {
   "cell_type": "code",
   "execution_count": 30,
   "metadata": {
    "collapsed": false
   },
   "outputs": [
    {
     "data": {
      "text/html": [
       "<div>\n",
       "<table border=\"1\" class=\"dataframe\">\n",
       "  <thead>\n",
       "    <tr style=\"text-align: right;\">\n",
       "      <th></th>\n",
       "      <th>col1</th>\n",
       "      <th>col2</th>\n",
       "      <th>col3</th>\n",
       "    </tr>\n",
       "  </thead>\n",
       "  <tbody>\n",
       "    <tr>\n",
       "      <th>jan</th>\n",
       "      <td>1</td>\n",
       "      <td>11</td>\n",
       "      <td>-0</td>\n",
       "    </tr>\n",
       "    <tr>\n",
       "      <th>feb</th>\n",
       "      <td>-0</td>\n",
       "      <td>11</td>\n",
       "      <td>-0</td>\n",
       "    </tr>\n",
       "    <tr>\n",
       "      <th>march</th>\n",
       "      <td>2</td>\n",
       "      <td>5</td>\n",
       "      <td>3</td>\n",
       "    </tr>\n",
       "    <tr>\n",
       "      <th>april</th>\n",
       "      <td>-1</td>\n",
       "      <td>12</td>\n",
       "      <td>-0</td>\n",
       "    </tr>\n",
       "    <tr>\n",
       "      <th>mai</th>\n",
       "      <td>1</td>\n",
       "      <td>9</td>\n",
       "      <td>-1</td>\n",
       "    </tr>\n",
       "    <tr>\n",
       "      <th>june</th>\n",
       "      <td>1</td>\n",
       "      <td>9</td>\n",
       "      <td>1</td>\n",
       "    </tr>\n",
       "  </tbody>\n",
       "</table>\n",
       "</div>"
      ],
      "text/plain": [
       "       col1  col2  col3\n",
       "jan       1    11    -0\n",
       "feb      -0    11    -0\n",
       "march     2     5     3\n",
       "april    -1    12    -0\n",
       "mai       1     9    -1\n",
       "june      1     9     1"
      ]
     },
     "execution_count": 30,
     "metadata": {},
     "output_type": "execute_result"
    }
   ],
   "source": [
    "df = df.applymap(round)\n",
    "df"
   ]
  },
  {
   "cell_type": "code",
   "execution_count": 31,
   "metadata": {
    "collapsed": false
   },
   "outputs": [
    {
     "data": {
      "text/html": [
       "<div>\n",
       "<table border=\"1\" class=\"dataframe\">\n",
       "  <thead>\n",
       "    <tr style=\"text-align: right;\">\n",
       "      <th></th>\n",
       "      <th>col2</th>\n",
       "      <th>col3</th>\n",
       "      <th>col4</th>\n",
       "    </tr>\n",
       "  </thead>\n",
       "  <tbody>\n",
       "    <tr>\n",
       "      <th>jan</th>\n",
       "      <td>-2</td>\n",
       "      <td>-1</td>\n",
       "      <td>1</td>\n",
       "    </tr>\n",
       "    <tr>\n",
       "      <th>feb</th>\n",
       "      <td>1</td>\n",
       "      <td>-1</td>\n",
       "      <td>-1</td>\n",
       "    </tr>\n",
       "    <tr>\n",
       "      <th>march</th>\n",
       "      <td>-0</td>\n",
       "      <td>1</td>\n",
       "      <td>-1</td>\n",
       "    </tr>\n",
       "    <tr>\n",
       "      <th>mai</th>\n",
       "      <td>-2</td>\n",
       "      <td>1</td>\n",
       "      <td>0</td>\n",
       "    </tr>\n",
       "    <tr>\n",
       "      <th>june</th>\n",
       "      <td>0</td>\n",
       "      <td>-2</td>\n",
       "      <td>-1</td>\n",
       "    </tr>\n",
       "    <tr>\n",
       "      <th>july</th>\n",
       "      <td>1</td>\n",
       "      <td>-1</td>\n",
       "      <td>0</td>\n",
       "    </tr>\n",
       "  </tbody>\n",
       "</table>\n",
       "</div>"
      ],
      "text/plain": [
       "       col2  col3  col4\n",
       "jan      -2    -1     1\n",
       "feb       1    -1    -1\n",
       "march    -0     1    -1\n",
       "mai      -2     1     0\n",
       "june      0    -2    -1\n",
       "july      1    -1     0"
      ]
     },
     "execution_count": 31,
     "metadata": {},
     "output_type": "execute_result"
    }
   ],
   "source": [
    "df2 = df2.applymap(round)\n",
    "df2"
   ]
  },
  {
   "cell_type": "markdown",
   "metadata": {},
   "source": [
    "Now join the modified dataframes on df.col1 == df2.col4."
   ]
  },
  {
   "cell_type": "code",
   "execution_count": 35,
   "metadata": {
    "collapsed": false
   },
   "outputs": [
    {
     "data": {
      "text/html": [
       "<div>\n",
       "<table border=\"1\" class=\"dataframe\">\n",
       "  <thead>\n",
       "    <tr style=\"text-align: right;\">\n",
       "      <th></th>\n",
       "      <th>col1</th>\n",
       "      <th>col2_x</th>\n",
       "      <th>col3_x</th>\n",
       "      <th>col2_y</th>\n",
       "      <th>col3_y</th>\n",
       "      <th>col4</th>\n",
       "    </tr>\n",
       "  </thead>\n",
       "  <tbody>\n",
       "    <tr>\n",
       "      <th>0</th>\n",
       "      <td>1</td>\n",
       "      <td>11</td>\n",
       "      <td>-0</td>\n",
       "      <td>-2</td>\n",
       "      <td>-1</td>\n",
       "      <td>1</td>\n",
       "    </tr>\n",
       "    <tr>\n",
       "      <th>1</th>\n",
       "      <td>1</td>\n",
       "      <td>9</td>\n",
       "      <td>-1</td>\n",
       "      <td>-2</td>\n",
       "      <td>-1</td>\n",
       "      <td>1</td>\n",
       "    </tr>\n",
       "    <tr>\n",
       "      <th>2</th>\n",
       "      <td>1</td>\n",
       "      <td>9</td>\n",
       "      <td>1</td>\n",
       "      <td>-2</td>\n",
       "      <td>-1</td>\n",
       "      <td>1</td>\n",
       "    </tr>\n",
       "    <tr>\n",
       "      <th>3</th>\n",
       "      <td>-0</td>\n",
       "      <td>11</td>\n",
       "      <td>-0</td>\n",
       "      <td>-2</td>\n",
       "      <td>1</td>\n",
       "      <td>0</td>\n",
       "    </tr>\n",
       "    <tr>\n",
       "      <th>4</th>\n",
       "      <td>-0</td>\n",
       "      <td>11</td>\n",
       "      <td>-0</td>\n",
       "      <td>1</td>\n",
       "      <td>-1</td>\n",
       "      <td>0</td>\n",
       "    </tr>\n",
       "    <tr>\n",
       "      <th>5</th>\n",
       "      <td>-1</td>\n",
       "      <td>12</td>\n",
       "      <td>-0</td>\n",
       "      <td>1</td>\n",
       "      <td>-1</td>\n",
       "      <td>-1</td>\n",
       "    </tr>\n",
       "    <tr>\n",
       "      <th>6</th>\n",
       "      <td>-1</td>\n",
       "      <td>12</td>\n",
       "      <td>-0</td>\n",
       "      <td>-0</td>\n",
       "      <td>1</td>\n",
       "      <td>-1</td>\n",
       "    </tr>\n",
       "    <tr>\n",
       "      <th>7</th>\n",
       "      <td>-1</td>\n",
       "      <td>12</td>\n",
       "      <td>-0</td>\n",
       "      <td>0</td>\n",
       "      <td>-2</td>\n",
       "      <td>-1</td>\n",
       "    </tr>\n",
       "  </tbody>\n",
       "</table>\n",
       "</div>"
      ],
      "text/plain": [
       "   col1  col2_x  col3_x  col2_y  col3_y  col4\n",
       "0     1      11      -0      -2      -1     1\n",
       "1     1       9      -1      -2      -1     1\n",
       "2     1       9       1      -2      -1     1\n",
       "3    -0      11      -0      -2       1     0\n",
       "4    -0      11      -0       1      -1     0\n",
       "5    -1      12      -0       1      -1    -1\n",
       "6    -1      12      -0      -0       1    -1\n",
       "7    -1      12      -0       0      -2    -1"
      ]
     },
     "execution_count": 35,
     "metadata": {},
     "output_type": "execute_result"
    }
   ],
   "source": [
    "m = df.merge(df2, left_on='col1', right_on='col4')\n",
    "m"
   ]
  },
  {
   "cell_type": "code",
   "execution_count": 43,
   "metadata": {
    "collapsed": false
   },
   "outputs": [
    {
     "ename": "Exception",
     "evalue": "Data must be 1-dimensional",
     "output_type": "error",
     "traceback": [
      "\u001b[1;31m---------------------------------------------------------------------------\u001b[0m",
      "\u001b[1;31mException\u001b[0m                                 Traceback (most recent call last)",
      "\u001b[1;32m<ipython-input-43-45a461070963>\u001b[0m in \u001b[0;36m<module>\u001b[1;34m()\u001b[0m\n\u001b[0;32m      1\u001b[0m df3 = pd.DataFrame({'col1': ['blue', 'green', 'blue', 'cyan', 'yellow', 'cyan'],\n\u001b[0;32m      2\u001b[0m                     \u001b[1;34m'col2'\u001b[0m\u001b[1;33m:\u001b[0m \u001b[1;33m[\u001b[0m\u001b[1;34m'yes'\u001b[0m\u001b[1;33m,\u001b[0m \u001b[1;34m'no'\u001b[0m\u001b[1;33m,\u001b[0m \u001b[1;34m'no'\u001b[0m\u001b[1;33m,\u001b[0m \u001b[1;34m'yes'\u001b[0m\u001b[1;33m,\u001b[0m \u001b[1;34m'no'\u001b[0m\u001b[1;33m,\u001b[0m \u001b[1;34m'no'\u001b[0m\u001b[1;33m]\u001b[0m\u001b[1;33m,\u001b[0m\u001b[1;33m\u001b[0m\u001b[0m\n\u001b[1;32m----> 3\u001b[1;33m                     'col3': np.random.randn(100, 20, 6)})\n\u001b[0m",
      "\u001b[1;32m/home/key/python/anaconda2/lib/python2.7/site-packages/pandas/core/frame.pyc\u001b[0m in \u001b[0;36m__init__\u001b[1;34m(self, data, index, columns, dtype, copy)\u001b[0m\n\u001b[0;32m    224\u001b[0m                                  dtype=dtype, copy=copy)\n\u001b[0;32m    225\u001b[0m         \u001b[1;32melif\u001b[0m \u001b[0misinstance\u001b[0m\u001b[1;33m(\u001b[0m\u001b[0mdata\u001b[0m\u001b[1;33m,\u001b[0m \u001b[0mdict\u001b[0m\u001b[1;33m)\u001b[0m\u001b[1;33m:\u001b[0m\u001b[1;33m\u001b[0m\u001b[0m\n\u001b[1;32m--> 226\u001b[1;33m             \u001b[0mmgr\u001b[0m \u001b[1;33m=\u001b[0m \u001b[0mself\u001b[0m\u001b[1;33m.\u001b[0m\u001b[0m_init_dict\u001b[0m\u001b[1;33m(\u001b[0m\u001b[0mdata\u001b[0m\u001b[1;33m,\u001b[0m \u001b[0mindex\u001b[0m\u001b[1;33m,\u001b[0m \u001b[0mcolumns\u001b[0m\u001b[1;33m,\u001b[0m \u001b[0mdtype\u001b[0m\u001b[1;33m=\u001b[0m\u001b[0mdtype\u001b[0m\u001b[1;33m)\u001b[0m\u001b[1;33m\u001b[0m\u001b[0m\n\u001b[0m\u001b[0;32m    227\u001b[0m         \u001b[1;32melif\u001b[0m \u001b[0misinstance\u001b[0m\u001b[1;33m(\u001b[0m\u001b[0mdata\u001b[0m\u001b[1;33m,\u001b[0m \u001b[0mma\u001b[0m\u001b[1;33m.\u001b[0m\u001b[0mMaskedArray\u001b[0m\u001b[1;33m)\u001b[0m\u001b[1;33m:\u001b[0m\u001b[1;33m\u001b[0m\u001b[0m\n\u001b[0;32m    228\u001b[0m             \u001b[1;32mimport\u001b[0m \u001b[0mnumpy\u001b[0m\u001b[1;33m.\u001b[0m\u001b[0mma\u001b[0m\u001b[1;33m.\u001b[0m\u001b[0mmrecords\u001b[0m \u001b[1;32mas\u001b[0m \u001b[0mmrecords\u001b[0m\u001b[1;33m\u001b[0m\u001b[0m\n",
      "\u001b[1;32m/home/key/python/anaconda2/lib/python2.7/site-packages/pandas/core/frame.pyc\u001b[0m in \u001b[0;36m_init_dict\u001b[1;34m(self, data, index, columns, dtype)\u001b[0m\n\u001b[0;32m    361\u001b[0m \u001b[1;33m\u001b[0m\u001b[0m\n\u001b[0;32m    362\u001b[0m         return _arrays_to_mgr(arrays, data_names, index, columns,\n\u001b[1;32m--> 363\u001b[1;33m                               dtype=dtype)\n\u001b[0m\u001b[0;32m    364\u001b[0m \u001b[1;33m\u001b[0m\u001b[0m\n\u001b[0;32m    365\u001b[0m     def _init_ndarray(self, values, index, columns, dtype=None,\n",
      "\u001b[1;32m/home/key/python/anaconda2/lib/python2.7/site-packages/pandas/core/frame.pyc\u001b[0m in \u001b[0;36m_arrays_to_mgr\u001b[1;34m(arrays, arr_names, index, columns, dtype)\u001b[0m\n\u001b[0;32m   5161\u001b[0m \u001b[1;33m\u001b[0m\u001b[0m\n\u001b[0;32m   5162\u001b[0m     \u001b[1;31m# don't force copy because getting jammed in an ndarray anyway\u001b[0m\u001b[1;33m\u001b[0m\u001b[1;33m\u001b[0m\u001b[0m\n\u001b[1;32m-> 5163\u001b[1;33m     \u001b[0marrays\u001b[0m \u001b[1;33m=\u001b[0m \u001b[0m_homogenize\u001b[0m\u001b[1;33m(\u001b[0m\u001b[0marrays\u001b[0m\u001b[1;33m,\u001b[0m \u001b[0mindex\u001b[0m\u001b[1;33m,\u001b[0m \u001b[0mdtype\u001b[0m\u001b[1;33m)\u001b[0m\u001b[1;33m\u001b[0m\u001b[0m\n\u001b[0m\u001b[0;32m   5164\u001b[0m \u001b[1;33m\u001b[0m\u001b[0m\n\u001b[0;32m   5165\u001b[0m     \u001b[1;31m# from BlockManager perspective\u001b[0m\u001b[1;33m\u001b[0m\u001b[1;33m\u001b[0m\u001b[0m\n",
      "\u001b[1;32m/home/key/python/anaconda2/lib/python2.7/site-packages/pandas/core/frame.pyc\u001b[0m in \u001b[0;36m_homogenize\u001b[1;34m(data, index, dtype)\u001b[0m\n\u001b[0;32m   5475\u001b[0m                 \u001b[0mv\u001b[0m \u001b[1;33m=\u001b[0m \u001b[0mlib\u001b[0m\u001b[1;33m.\u001b[0m\u001b[0mfast_multiget\u001b[0m\u001b[1;33m(\u001b[0m\u001b[0mv\u001b[0m\u001b[1;33m,\u001b[0m \u001b[0moindex\u001b[0m\u001b[1;33m.\u001b[0m\u001b[0mvalues\u001b[0m\u001b[1;33m,\u001b[0m \u001b[0mdefault\u001b[0m\u001b[1;33m=\u001b[0m\u001b[0mNA\u001b[0m\u001b[1;33m)\u001b[0m\u001b[1;33m\u001b[0m\u001b[0m\n\u001b[0;32m   5476\u001b[0m             v = _sanitize_array(v, index, dtype=dtype, copy=False,\n\u001b[1;32m-> 5477\u001b[1;33m                                 raise_cast_failure=False)\n\u001b[0m\u001b[0;32m   5478\u001b[0m \u001b[1;33m\u001b[0m\u001b[0m\n\u001b[0;32m   5479\u001b[0m         \u001b[0mhomogenized\u001b[0m\u001b[1;33m.\u001b[0m\u001b[0mappend\u001b[0m\u001b[1;33m(\u001b[0m\u001b[0mv\u001b[0m\u001b[1;33m)\u001b[0m\u001b[1;33m\u001b[0m\u001b[0m\n",
      "\u001b[1;32m/home/key/python/anaconda2/lib/python2.7/site-packages/pandas/core/series.pyc\u001b[0m in \u001b[0;36m_sanitize_array\u001b[1;34m(data, index, dtype, copy, raise_cast_failure)\u001b[0m\n\u001b[0;32m   2883\u001b[0m     \u001b[1;32melif\u001b[0m \u001b[0msubarr\u001b[0m\u001b[1;33m.\u001b[0m\u001b[0mndim\u001b[0m \u001b[1;33m>\u001b[0m \u001b[1;36m1\u001b[0m\u001b[1;33m:\u001b[0m\u001b[1;33m\u001b[0m\u001b[0m\n\u001b[0;32m   2884\u001b[0m         \u001b[1;32mif\u001b[0m \u001b[0misinstance\u001b[0m\u001b[1;33m(\u001b[0m\u001b[0mdata\u001b[0m\u001b[1;33m,\u001b[0m \u001b[0mnp\u001b[0m\u001b[1;33m.\u001b[0m\u001b[0mndarray\u001b[0m\u001b[1;33m)\u001b[0m\u001b[1;33m:\u001b[0m\u001b[1;33m\u001b[0m\u001b[0m\n\u001b[1;32m-> 2885\u001b[1;33m             \u001b[1;32mraise\u001b[0m \u001b[0mException\u001b[0m\u001b[1;33m(\u001b[0m\u001b[1;34m'Data must be 1-dimensional'\u001b[0m\u001b[1;33m)\u001b[0m\u001b[1;33m\u001b[0m\u001b[0m\n\u001b[0m\u001b[0;32m   2886\u001b[0m         \u001b[1;32melse\u001b[0m\u001b[1;33m:\u001b[0m\u001b[1;33m\u001b[0m\u001b[0m\n\u001b[0;32m   2887\u001b[0m             \u001b[0msubarr\u001b[0m \u001b[1;33m=\u001b[0m \u001b[0m_asarray_tuplesafe\u001b[0m\u001b[1;33m(\u001b[0m\u001b[0mdata\u001b[0m\u001b[1;33m,\u001b[0m \u001b[0mdtype\u001b[0m\u001b[1;33m=\u001b[0m\u001b[0mdtype\u001b[0m\u001b[1;33m)\u001b[0m\u001b[1;33m\u001b[0m\u001b[0m\n",
      "\u001b[1;31mException\u001b[0m: Data must be 1-dimensional"
     ]
    }
   ],
   "source": [
    "df3 = pd.DataFrame({'col1': ['blue', 'green', 'blue', 'cyan', 'yellow', 'cyan'],\n",
    "                    'col2': ['yes', 'no', 'no', 'yes', 'no', 'no'],\n",
    "                    'col3': np.random.randn(100, 20, 6)})"
   ]
  },
  {
   "cell_type": "code",
   "execution_count": 37,
   "metadata": {
    "collapsed": false
   },
   "outputs": [
    {
     "data": {
      "text/html": [
       "<div>\n",
       "<table border=\"1\" class=\"dataframe\">\n",
       "  <thead>\n",
       "    <tr style=\"text-align: right;\">\n",
       "      <th></th>\n",
       "      <th>col1</th>\n",
       "      <th>col2</th>\n",
       "      <th>col3</th>\n",
       "    </tr>\n",
       "  </thead>\n",
       "  <tbody>\n",
       "    <tr>\n",
       "      <th>jan</th>\n",
       "      <td>1</td>\n",
       "      <td>11</td>\n",
       "      <td>-0</td>\n",
       "    </tr>\n",
       "    <tr>\n",
       "      <th>feb</th>\n",
       "      <td>-0</td>\n",
       "      <td>11</td>\n",
       "      <td>-0</td>\n",
       "    </tr>\n",
       "    <tr>\n",
       "      <th>march</th>\n",
       "      <td>2</td>\n",
       "      <td>5</td>\n",
       "      <td>3</td>\n",
       "    </tr>\n",
       "    <tr>\n",
       "      <th>april</th>\n",
       "      <td>-1</td>\n",
       "      <td>12</td>\n",
       "      <td>-0</td>\n",
       "    </tr>\n",
       "    <tr>\n",
       "      <th>mai</th>\n",
       "      <td>1</td>\n",
       "      <td>9</td>\n",
       "      <td>-1</td>\n",
       "    </tr>\n",
       "    <tr>\n",
       "      <th>june</th>\n",
       "      <td>1</td>\n",
       "      <td>9</td>\n",
       "      <td>1</td>\n",
       "    </tr>\n",
       "  </tbody>\n",
       "</table>\n",
       "</div>"
      ],
      "text/plain": [
       "       col1  col2  col3\n",
       "jan       1    11    -0\n",
       "feb      -0    11    -0\n",
       "march     2     5     3\n",
       "april    -1    12    -0\n",
       "mai       1     9    -1\n",
       "june      1     9     1"
      ]
     },
     "execution_count": 37,
     "metadata": {},
     "output_type": "execute_result"
    }
   ],
   "source": [
    "df"
   ]
  },
  {
   "cell_type": "code",
   "execution_count": 39,
   "metadata": {
    "collapsed": false
   },
   "outputs": [
    {
     "data": {
      "text/html": [
       "<div>\n",
       "<table border=\"1\" class=\"dataframe\">\n",
       "  <thead>\n",
       "    <tr style=\"text-align: right;\">\n",
       "      <th></th>\n",
       "      <th>col2</th>\n",
       "      <th>col3</th>\n",
       "    </tr>\n",
       "    <tr>\n",
       "      <th>col1</th>\n",
       "      <th></th>\n",
       "      <th></th>\n",
       "    </tr>\n",
       "  </thead>\n",
       "  <tbody>\n",
       "    <tr>\n",
       "      <th>-1</th>\n",
       "      <td>12.000000</td>\n",
       "      <td>0</td>\n",
       "    </tr>\n",
       "    <tr>\n",
       "      <th>-0</th>\n",
       "      <td>11.000000</td>\n",
       "      <td>0</td>\n",
       "    </tr>\n",
       "    <tr>\n",
       "      <th>1</th>\n",
       "      <td>9.666667</td>\n",
       "      <td>0</td>\n",
       "    </tr>\n",
       "    <tr>\n",
       "      <th>2</th>\n",
       "      <td>5.000000</td>\n",
       "      <td>3</td>\n",
       "    </tr>\n",
       "  </tbody>\n",
       "</table>\n",
       "</div>"
      ],
      "text/plain": [
       "           col2  col3\n",
       "col1                 \n",
       "-1    12.000000     0\n",
       "-0    11.000000     0\n",
       " 1     9.666667     0\n",
       " 2     5.000000     3"
      ]
     },
     "execution_count": 39,
     "metadata": {},
     "output_type": "execute_result"
    }
   ],
   "source": [
    "df.groupby('col1').mean()"
   ]
  },
  {
   "cell_type": "code",
   "execution_count": null,
   "metadata": {
    "collapsed": true
   },
   "outputs": [],
   "source": []
  }
 ],
 "metadata": {
  "kernelspec": {
   "display_name": "Python 2",
   "language": "python",
   "name": "python2"
  },
  "language_info": {
   "codemirror_mode": {
    "name": "ipython",
    "version": 2
   },
   "file_extension": ".py",
   "mimetype": "text/x-python",
   "name": "python",
   "nbconvert_exporter": "python",
   "pygments_lexer": "ipython2",
   "version": "2.7.11"
  }
 },
 "nbformat": 4,
 "nbformat_minor": 0
}
