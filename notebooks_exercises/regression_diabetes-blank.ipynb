{
 "cells": [
  {
   "cell_type": "markdown",
   "metadata": {},
   "source": [
    "# Regression: diabetes dataset\n",
    "\n",
    "Included with scikit-learn is the diabetes dataset. It contains 10 predictor variables and one target variable.\n",
    "We will use this to explore various types of regression.\n",
    "\n",
    "## Load and inspect the data\n"
   ]
  },
  {
   "cell_type": "code",
   "execution_count": null,
   "metadata": {
    "collapsed": true
   },
   "outputs": [],
   "source": [
    "# the usual imports\n",
    "from __future__ import division\n",
    "import numpy as np\n",
    "import pandas as pd\n",
    "import matplotlib.pyplot as plt\n",
    "%matplotlib inline"
   ]
  },
  {
   "cell_type": "markdown",
   "metadata": {},
   "source": [
    "Load and have a look at the shape of the diabetes dataset. The column names are not included in the data, so we will specify them separately."
   ]
  },
  {
   "cell_type": "code",
   "execution_count": null,
   "metadata": {
    "collapsed": false
   },
   "outputs": [],
   "source": [
    "from sklearn.datasets import load_diabetes\n",
    "diabetes = load_diabetes()\n",
    "diabetes.keys()"
   ]
  },
  {
   "cell_type": "code",
   "execution_count": null,
   "metadata": {
    "collapsed": false
   },
   "outputs": [],
   "source": [
    "X = diabetes.data\n",
    "y = diabetes.target\n",
    "\n",
    "X.shape, y.shape"
   ]
  },
  {
   "cell_type": "markdown",
   "metadata": {},
   "source": [
    "To better inspect the data, build a pandas DataFrame from it."
   ]
  },
  {
   "cell_type": "code",
   "execution_count": null,
   "metadata": {
    "collapsed": true
   },
   "outputs": [],
   "source": [
    "column_names=['age', 'sex', 'bmi', 'map', 'tc', 'ldl', 'hdl', 'tch', 'ltg', 'glu']\n",
    "# fill in missing code here\n",
    "df = \n",
    "# include the target variable in the DataFrame\n",
    "df['target'] = "
   ]
  },
  {
   "cell_type": "markdown",
   "metadata": {},
   "source": [
    "Now, use pandas functionality to display (part of) the rows, summary values, and variable intercorrelations.\n",
    "What can you say about the predictor variables?\n",
    "Which predictor variables are most correlated with the target?\n",
    "How about correlations between the predictors?"
   ]
  },
  {
   "cell_type": "code",
   "execution_count": null,
   "metadata": {
    "collapsed": false
   },
   "outputs": [],
   "source": [
    "# display first columns\n",
    "# fill in missing code here\n",
    "df."
   ]
  },
  {
   "cell_type": "code",
   "execution_count": null,
   "metadata": {
    "collapsed": false
   },
   "outputs": [],
   "source": [
    "# get statistical summaries per column\n",
    "# fill in missing code here\n",
    "df."
   ]
  },
  {
   "cell_type": "code",
   "execution_count": null,
   "metadata": {
    "collapsed": false,
    "scrolled": true
   },
   "outputs": [],
   "source": [
    "# display correlation matrix\n",
    "# fill in missing code here\n",
    "df."
   ]
  },
  {
   "cell_type": "markdown",
   "metadata": {},
   "source": [
    "A nice way to inspect correlation strength is using a heatmap. The seaborn library has a heatmap function:"
   ]
  },
  {
   "cell_type": "code",
   "execution_count": null,
   "metadata": {
    "collapsed": false
   },
   "outputs": [],
   "source": [
    "import seaborn as sns\n",
    "plt.figure()\n",
    "coefs = np.corrcoef(df.values.T)\n",
    "sns.set(style='whitegrid')\n",
    "hm = sns.heatmap(coefs, cbar=True, annot=True, square=True, fmt='.2f', annot_kws={'size': 10}, yticklabels=df.columns, xticklabels=df.columns) \n",
    "plt.show()\n",
    "sns.reset_orig()"
   ]
  },
  {
   "cell_type": "markdown",
   "metadata": {},
   "source": [
    "Using pandas' scattermatrix, we can check for nonlinear relationships:"
   ]
  },
  {
   "cell_type": "code",
   "execution_count": null,
   "metadata": {
    "collapsed": false
   },
   "outputs": [],
   "source": [
    "from pandas.tools.plotting import scatter_matrix\n",
    "scatter_matrix(df.drop('sex',1), diagonal='kde')"
   ]
  },
  {
   "cell_type": "markdown",
   "metadata": {},
   "source": [
    "## Split into train and test sets"
   ]
  },
  {
   "cell_type": "code",
   "execution_count": null,
   "metadata": {
    "collapsed": false
   },
   "outputs": [],
   "source": [
    "from sklearn import cross_validation\n",
    "# fill in missing code here\n",
    "X_train, X_test, y_train, y_test ="
   ]
  },
  {
   "cell_type": "markdown",
   "metadata": {},
   "source": [
    "## Linear Regression \n",
    "Now, perform linear regression on the training data.\n",
    "What are the regression coefficients?"
   ]
  },
  {
   "cell_type": "code",
   "execution_count": null,
   "metadata": {
    "collapsed": false
   },
   "outputs": [],
   "source": [
    "from sklearn import linear_model\n",
    "# fill in missing code here\n",
    "lreg_model = \n",
    "\n"
   ]
  },
  {
   "cell_type": "markdown",
   "metadata": {},
   "source": [
    "How well does the model perform on the training data? Determine R square."
   ]
  },
  {
   "cell_type": "code",
   "execution_count": null,
   "metadata": {
    "collapsed": false
   },
   "outputs": [],
   "source": [
    "'R^2 (train): {}'.format(lreg_model.score(X_train, y_train))"
   ]
  },
  {
   "cell_type": "markdown",
   "metadata": {},
   "source": [
    "How well does the model perform on the test data? Determine R square."
   ]
  },
  {
   "cell_type": "code",
   "execution_count": null,
   "metadata": {
    "collapsed": false
   },
   "outputs": [],
   "source": [
    "# fill in missing code here"
   ]
  },
  {
   "cell_type": "markdown",
   "metadata": {},
   "source": [
    "## Ordinary Least Squares using statsmodels\n",
    "\n",
    "We can use statsmodels to get p values for the model and the coefficients. How many coefficients are significant on the p=0.5 level?"
   ]
  },
  {
   "cell_type": "code",
   "execution_count": null,
   "metadata": {
    "collapsed": false
   },
   "outputs": [],
   "source": [
    "import statsmodels.api as sm\n",
    "sm_linear = sm.OLS(y_train, X_train)\n",
    "sm_results = sm_linear.fit()\n",
    "print sm_results.summary()"
   ]
  },
  {
   "cell_type": "markdown",
   "metadata": {},
   "source": [
    "## Regularization - Lasso coefficient path\n",
    "\n",
    "However, we have seen strong (positive and negative) intercorrelations among the predictors, so more predictors may be useful once we eliminate/reduce collinearity. Let's look at what happens when we introduce regularization. Plot the Lasso coefficient path:"
   ]
  },
  {
   "cell_type": "code",
   "execution_count": null,
   "metadata": {
    "collapsed": false
   },
   "outputs": [],
   "source": [
    "from cycler import cycler\n",
    "def coefficient_path(model, alphas, X, y):\n",
    "  model = model\n",
    "  coefs = []\n",
    "  for a in alphas:\n",
    "    model.set_params(alpha=a)\n",
    "    model.fit(X, y)\n",
    "    coefs.append(model.coef_)\n",
    "  plt.figure()\n",
    "  ax = plt.gca()\n",
    "  ax.set_prop_cycle(cycler('color', ['c', 'm', 'y', 'k', 'b', 'r', 'y', 'g']))\n",
    "  ax.plot(alphas, coefs)\n",
    "  ax.set_xscale('log')\n",
    "  ax.set_xlim(ax.get_xlim()[::-1])  # reverse axis\n",
    "  plt.xlabel('alpha')\n",
    "  plt.ylabel('weights')\n",
    "  plt.title('Coefficients as a function of the regularization')\n",
    "  plt.axis('tight')\n",
    "  plt.show()\n"
   ]
  },
  {
   "cell_type": "code",
   "execution_count": null,
   "metadata": {
    "collapsed": false
   },
   "outputs": [],
   "source": [
    "alphas = np.logspace(-5, 2, 50)\n",
    "alphas"
   ]
  },
  {
   "cell_type": "code",
   "execution_count": null,
   "metadata": {
    "collapsed": false
   },
   "outputs": [],
   "source": [
    "# call the coefficient_path function with a Lasso model, the alphas, and the training data:\n",
    "# fill in missing code here"
   ]
  },
  {
   "cell_type": "markdown",
   "metadata": {},
   "source": [
    "## Lasso: 2 features\n",
    "\n",
    "Now perform Lasso Regression to build a model with 2 features. What are the coefficients chosen by Lasso?\n",
    "    "
   ]
  },
  {
   "cell_type": "code",
   "execution_count": null,
   "metadata": {
    "collapsed": false
   },
   "outputs": [],
   "source": [
    "# fill in missing code here\n",
    "lasso_model =\n"
   ]
  },
  {
   "cell_type": "markdown",
   "metadata": {},
   "source": [
    "What are the p values reported by statsmodels for this 2-coefficient model?"
   ]
  },
  {
   "cell_type": "code",
   "execution_count": null,
   "metadata": {
    "collapsed": false
   },
   "outputs": [],
   "source": [
    "sm_linear = sm.GLS(y_train, X_train[:,[2,8]])\n",
    "sm_results = sm_linear.fit()\n",
    "print sm_results.summary()"
   ]
  },
  {
   "cell_type": "markdown",
   "metadata": {},
   "source": [
    "What are the R^2 values (train and test) for the 2 coefficient Lasso model?"
   ]
  },
  {
   "cell_type": "code",
   "execution_count": null,
   "metadata": {
    "collapsed": false
   },
   "outputs": [],
   "source": [
    "# fill in missing code here"
   ]
  },
  {
   "cell_type": "markdown",
   "metadata": {},
   "source": [
    "## Lasso: 4 features\n",
    "\n",
    "Now try Lasso Regression with 4 features. What are the coefficients chosen by Lasso?\n",
    "    "
   ]
  },
  {
   "cell_type": "code",
   "execution_count": null,
   "metadata": {
    "collapsed": false
   },
   "outputs": [],
   "source": [
    "# fill in missing code here\n",
    "lasso_model = "
   ]
  },
  {
   "cell_type": "markdown",
   "metadata": {},
   "source": [
    "What are the p values reported by statsmodels for this 2-coefficient model?"
   ]
  },
  {
   "cell_type": "code",
   "execution_count": null,
   "metadata": {
    "collapsed": false
   },
   "outputs": [],
   "source": [
    "sm_linear = sm.GLS(y_train, X_train[:,[2,3,6,8]])\n",
    "sm_results = sm_linear.fit()\n",
    "print sm_results.summary()"
   ]
  },
  {
   "cell_type": "markdown",
   "metadata": {},
   "source": [
    "What are the R^2 values (train and test) for the 4 coefficient Lasso model?"
   ]
  },
  {
   "cell_type": "code",
   "execution_count": null,
   "metadata": {
    "collapsed": false
   },
   "outputs": [],
   "source": [
    "# fill in missing code here"
   ]
  },
  {
   "cell_type": "markdown",
   "metadata": {},
   "source": [
    "## Nonlinear regression: k Nearest Neighbors\n",
    "\n",
    "Even though the predictors and the target variable look rather linearly correlated, let's try if a nonlinear method delivers better performance.\n",
    "\n",
    "Perform k nearest neighbors regression with different numbers for k and compare accuracies for test and training set.\n",
    "Does k nearest neighbors regression perform better than linear regression?\n",
    "\n",
    "(Note: To determine the best k, you would normally use a validation set or perform cross validation. The fact that we compute accuracies on the test set for different values of k is for quick overview only.)"
   ]
  },
  {
   "cell_type": "code",
   "execution_count": null,
   "metadata": {
    "collapsed": false
   },
   "outputs": [],
   "source": [
    "from sklearn import neighbors\n",
    "n_neighbors = [3,5,10,20,30,40,50]\n",
    "weight = 'distance'\n",
    "\n",
    "for n in n_neighbors:\n",
    "    print('knn (n = {})'.format(n))\n",
    "    # fill in missing code here\n",
    "    # pass in number of neighbors and weight\n",
    "    knn_model = \n",
    "    \n",
    "    print 'R^2 (train): {}, R^2 (test): {}\\n'.format(knn_model.score(X_train, y_train), knn_model.score(X_test, y_test))"
   ]
  },
  {
   "cell_type": "markdown",
   "metadata": {},
   "source": [
    "What's your conclusion regarding KNN regression?"
   ]
  }
 ],
 "metadata": {
  "kernelspec": {
   "display_name": "Python 2",
   "language": "python",
   "name": "python2"
  },
  "language_info": {
   "codemirror_mode": {
    "name": "ipython",
    "version": 2
   },
   "file_extension": ".py",
   "mimetype": "text/x-python",
   "name": "python",
   "nbconvert_exporter": "python",
   "pygments_lexer": "ipython2",
   "version": "2.7.11"
  }
 },
 "nbformat": 4,
 "nbformat_minor": 0
}
