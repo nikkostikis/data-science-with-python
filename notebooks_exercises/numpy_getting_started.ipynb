{
 "cells": [
  {
   "cell_type": "markdown",
   "metadata": {},
   "source": [
    "# Getting started with NumPy"
   ]
  },
  {
   "cell_type": "code",
   "execution_count": 2,
   "metadata": {
    "collapsed": true
   },
   "outputs": [],
   "source": [
    "import numpy as np"
   ]
  },
  {
   "cell_type": "markdown",
   "metadata": {},
   "source": [
    "## Getting used to vectorization and broadcasting\n",
    "\n",
    "First, let's generate some test data. Generate a two-dimensional array with 10 rows and 4 columns, from a normal distribution with mean = 100 and standard deviation 20."
   ]
  },
  {
   "cell_type": "code",
   "execution_count": 3,
   "metadata": {
    "collapsed": false
   },
   "outputs": [
    {
     "data": {
      "text/plain": [
       "array([[ 112.93505949,  114.97532889,   98.39136844,   98.92601584],\n",
       "       [ 109.43399411,   85.82043372,   67.66757952,  100.64759196],\n",
       "       [ 114.35031381,  109.94982874,  112.61943682,  118.36858443],\n",
       "       [  55.67177024,  106.42902329,  104.49735834,  118.65223414],\n",
       "       [ 109.25949316,  122.2448656 ,  112.68517231,   47.19511415],\n",
       "       [ 103.73359692,   96.39851831,  111.37130165,   85.7556431 ],\n",
       "       [ 101.44011346,  134.63383414,  114.75416097,  102.93011115],\n",
       "       [  97.84970705,  123.95589594,  120.91753158,   73.84404592],\n",
       "       [  75.19432009,   75.20696764,  104.37864122,  102.68267704],\n",
       "       [ 139.26017858,   86.28058354,  122.12231962,   76.12275523]])"
      ]
     },
     "execution_count": 3,
     "metadata": {},
     "output_type": "execute_result"
    }
   ],
   "source": [
    "data = np.random.normal(100, 20, (10,4))\n",
    "data"
   ]
  },
  {
   "cell_type": "markdown",
   "metadata": {},
   "source": [
    "Round the data to one decimal place."
   ]
  },
  {
   "cell_type": "code",
   "execution_count": 4,
   "metadata": {
    "collapsed": false
   },
   "outputs": [
    {
     "data": {
      "text/plain": [
       "array([[ 112.9,  115. ,   98.4,   98.9],\n",
       "       [ 109.4,   85.8,   67.7,  100.6],\n",
       "       [ 114.4,  109.9,  112.6,  118.4],\n",
       "       [  55.7,  106.4,  104.5,  118.7],\n",
       "       [ 109.3,  122.2,  112.7,   47.2],\n",
       "       [ 103.7,   96.4,  111.4,   85.8],\n",
       "       [ 101.4,  134.6,  114.8,  102.9],\n",
       "       [  97.8,  124. ,  120.9,   73.8],\n",
       "       [  75.2,   75.2,  104.4,  102.7],\n",
       "       [ 139.3,   86.3,  122.1,   76.1]])"
      ]
     },
     "execution_count": 4,
     "metadata": {},
     "output_type": "execute_result"
    }
   ],
   "source": [
    "data = data.round(1)\n",
    "data"
   ]
  },
  {
   "cell_type": "markdown",
   "metadata": {},
   "source": [
    "Display the last 2 columns of rows 1-5 (let's agree that we start counting from 1 when using normal language)."
   ]
  },
  {
   "cell_type": "code",
   "execution_count": 5,
   "metadata": {
    "collapsed": false
   },
   "outputs": [
    {
     "data": {
      "text/plain": [
       "array([[  98.4,   98.9],\n",
       "       [  67.7,  100.6],\n",
       "       [ 112.6,  118.4],\n",
       "       [ 104.5,  118.7],\n",
       "       [ 112.7,   47.2]])"
      ]
     },
     "execution_count": 5,
     "metadata": {},
     "output_type": "execute_result"
    }
   ],
   "source": [
    "data[:5, -2:]"
   ]
  },
  {
   "cell_type": "markdown",
   "metadata": {},
   "source": [
    "Now, set all data points > 130 to 0."
   ]
  },
  {
   "cell_type": "code",
   "execution_count": 6,
   "metadata": {
    "collapsed": false
   },
   "outputs": [
    {
     "data": {
      "text/plain": [
       "array([[ 112.9,  115. ,   98.4,   98.9],\n",
       "       [ 109.4,   85.8,   67.7,  100.6],\n",
       "       [ 114.4,  109.9,  112.6,  118.4],\n",
       "       [  55.7,  106.4,  104.5,  118.7],\n",
       "       [ 109.3,  122.2,  112.7,   47.2],\n",
       "       [ 103.7,   96.4,  111.4,   85.8],\n",
       "       [ 101.4,    0. ,  114.8,  102.9],\n",
       "       [  97.8,  124. ,  120.9,   73.8],\n",
       "       [  75.2,   75.2,  104.4,  102.7],\n",
       "       [   0. ,   86.3,  122.1,   76.1]])"
      ]
     },
     "execution_count": 6,
     "metadata": {},
     "output_type": "execute_result"
    }
   ],
   "source": [
    "data = np.where(data > 130, 0, data)\n",
    "data"
   ]
  },
  {
   "cell_type": "markdown",
   "metadata": {},
   "source": [
    "Take the square root of all data points."
   ]
  },
  {
   "cell_type": "code",
   "execution_count": 7,
   "metadata": {
    "collapsed": false
   },
   "outputs": [
    {
     "data": {
      "text/plain": [
       "array([[ 10.62544117,  10.72380529,   9.91967741,   9.94484791],\n",
       "       [ 10.45944549,   9.26282894,   8.22800097,  10.02995513],\n",
       "       [ 10.69579357,  10.48332008,  10.61131472,  10.88117641],\n",
       "       [  7.46324326,  10.31503757,  10.22252415,  10.89495296],\n",
       "       [ 10.45466403,  11.05441088,  10.61602562,   6.87022561],\n",
       "       [ 10.18331969,   9.81835017,  10.55461984,   9.26282894],\n",
       "       [ 10.0697567 ,   0.        ,  10.71447619,  10.14396372],\n",
       "       [  9.88938825,  11.13552873,  10.99545361,   8.59069264],\n",
       "       [  8.67179336,   8.67179336,  10.21763182,  10.13410085],\n",
       "       [  0.        ,   9.28977933,  11.04988688,   8.7235314 ]])"
      ]
     },
     "execution_count": 7,
     "metadata": {},
     "output_type": "execute_result"
    }
   ],
   "source": [
    "data = np.sqrt(data)\n",
    "data"
   ]
  },
  {
   "cell_type": "markdown",
   "metadata": {},
   "source": [
    "Now, compute the mean and the standard deviation over all data points."
   ]
  },
  {
   "cell_type": "code",
   "execution_count": 8,
   "metadata": {
    "collapsed": false
   },
   "outputs": [
    {
     "data": {
      "text/plain": [
       "(9.4468396662966789, 2.3763880826337394)"
      ]
     },
     "execution_count": 8,
     "metadata": {},
     "output_type": "execute_result"
    }
   ],
   "source": [
    "mean, sd = np.mean(data), np.std(data)\n",
    "mean, sd"
   ]
  },
  {
   "cell_type": "markdown",
   "metadata": {},
   "source": [
    "Then, compute the row means and standard deviations."
   ]
  },
  {
   "cell_type": "code",
   "execution_count": 9,
   "metadata": {
    "collapsed": false
   },
   "outputs": [
    {
     "data": {
      "text/plain": [
       "(array([ 10.30344295,   9.49505764,  10.66790119,   9.72393948,\n",
       "          9.74883154,   9.95477966,   7.73204915,  10.15276581,\n",
       "          9.42382984,   7.2657994 ]),\n",
       " array([ 0.3729121 ,  0.84786821,  0.14451342,  1.33041381,  1.67639006,\n",
       "         0.47682481,  4.47106429,  1.0229108 ,  0.75261614,  4.28172384]))"
      ]
     },
     "execution_count": 9,
     "metadata": {},
     "output_type": "execute_result"
    }
   ],
   "source": [
    "row_ms, row_sds = np.mean(data, axis=1), np.std(data, axis=1)\n",
    "row_ms, row_sds"
   ]
  },
  {
   "cell_type": "markdown",
   "metadata": {},
   "source": [
    "Finally, compute column means and standard deviations."
   ]
  },
  {
   "cell_type": "code",
   "execution_count": 10,
   "metadata": {
    "collapsed": false
   },
   "outputs": [
    {
     "data": {
      "text/plain": [
       "(array([  8.85128455,   9.07548544,  10.31296112,   9.54762756]),\n",
       " array([ 3.10399127,  3.12338984,  0.76995644,  1.16310276]))"
      ]
     },
     "execution_count": 10,
     "metadata": {},
     "output_type": "execute_result"
    }
   ],
   "source": [
    "col_ms, col_sds = np.mean(data, axis=0), np.std(data, axis=0)\n",
    "col_ms, col_sds"
   ]
  },
  {
   "cell_type": "markdown",
   "metadata": {},
   "source": [
    "Now, compute the mean of column 2 without using NumPy's mean function."
   ]
  },
  {
   "cell_type": "code",
   "execution_count": 12,
   "metadata": {
    "collapsed": false
   },
   "outputs": [
    {
     "data": {
      "text/plain": [
       "array([[ 10.62544117,  10.72380529,   9.91967741,   9.94484791],\n",
       "       [ 10.45944549,   9.26282894,   8.22800097,  10.02995513],\n",
       "       [ 10.69579357,  10.48332008,  10.61131472,  10.88117641],\n",
       "       [  7.46324326,  10.31503757,  10.22252415,  10.89495296],\n",
       "       [ 10.45466403,  11.05441088,  10.61602562,   6.87022561],\n",
       "       [ 10.18331969,   9.81835017,  10.55461984,   9.26282894],\n",
       "       [ 10.0697567 ,   0.        ,  10.71447619,  10.14396372],\n",
       "       [  9.88938825,  11.13552873,  10.99545361,   8.59069264],\n",
       "       [  8.67179336,   8.67179336,  10.21763182,  10.13410085],\n",
       "       [  0.        ,   9.28977933,  11.04988688,   8.7235314 ]])"
      ]
     },
     "execution_count": 12,
     "metadata": {},
     "output_type": "execute_result"
    }
   ],
   "source": [
    "data"
   ]
  },
  {
   "cell_type": "code",
   "execution_count": 13,
   "metadata": {
    "collapsed": false
   },
   "outputs": [
    {
     "data": {
      "text/plain": [
       "array([ 10.72380529,   9.26282894,  10.48332008,  10.31503757,\n",
       "        11.05441088,   9.81835017,   0.        ,  11.13552873,\n",
       "         8.67179336,   9.28977933])"
      ]
     },
     "execution_count": 13,
     "metadata": {},
     "output_type": "execute_result"
    }
   ],
   "source": [
    "col2 = data[:,1]\n",
    "col2"
   ]
  },
  {
   "cell_type": "code",
   "execution_count": 20,
   "metadata": {
    "collapsed": false
   },
   "outputs": [
    {
     "data": {
      "text/plain": [
       "9.0754854350037224"
      ]
     },
     "execution_count": 20,
     "metadata": {},
     "output_type": "execute_result"
    }
   ],
   "source": [
    "mean_col2 = col2.sum() / len(col2)\n",
    "mean_col2"
   ]
  },
  {
   "cell_type": "code",
   "execution_count": 21,
   "metadata": {
    "collapsed": false
   },
   "outputs": [
    {
     "data": {
      "text/plain": [
       "9.7555641190353004"
      ]
     },
     "execution_count": 21,
     "metadata": {},
     "output_type": "execute_result"
    }
   ],
   "source": [
    "var_col2 = ((col2 - mean_col2)**2).sum() / len(col2)\n",
    "var_col2"
   ]
  },
  {
   "cell_type": "code",
   "execution_count": 22,
   "metadata": {
    "collapsed": false
   },
   "outputs": [
    {
     "data": {
      "text/plain": [
       "3.1233898442293913"
      ]
     },
     "execution_count": 22,
     "metadata": {},
     "output_type": "execute_result"
    }
   ],
   "source": [
    "sd_col2 = np.sqrt(var_col2)\n",
    "sd_col2"
   ]
  },
  {
   "cell_type": "markdown",
   "metadata": {},
   "source": [
    "Now double check again using NumPy's mean and std functions."
   ]
  },
  {
   "cell_type": "code",
   "execution_count": 23,
   "metadata": {
    "collapsed": false
   },
   "outputs": [
    {
     "data": {
      "text/plain": [
       "9.0754854350037224"
      ]
     },
     "execution_count": 23,
     "metadata": {},
     "output_type": "execute_result"
    }
   ],
   "source": [
    "np.mean(col2)"
   ]
  },
  {
   "cell_type": "code",
   "execution_count": 24,
   "metadata": {
    "collapsed": false
   },
   "outputs": [
    {
     "data": {
      "text/plain": [
       "3.1233898442293913"
      ]
     },
     "execution_count": 24,
     "metadata": {},
     "output_type": "execute_result"
    }
   ],
   "source": [
    "np.std(col2)"
   ]
  },
  {
   "cell_type": "code",
   "execution_count": 25,
   "metadata": {
    "collapsed": false
   },
   "outputs": [
    {
     "data": {
      "text/plain": [
       "97.555641190353001"
      ]
     },
     "execution_count": 25,
     "metadata": {},
     "output_type": "execute_result"
    }
   ],
   "source": [
    "((col2 - mean_col2)**2).sum()"
   ]
  },
  {
   "cell_type": "markdown",
   "metadata": {},
   "source": [
    "## Linear regression from scratch"
   ]
  },
  {
   "cell_type": "markdown",
   "metadata": {
    "collapsed": true
   },
   "source": [
    "For practise with ndarrays and matrix operations, we are going to compute regression coefficients for linear regression ourselves.\n",
    "\n",
    "First, let's create some data. We have measured 2 variables:"
   ]
  },
  {
   "cell_type": "code",
   "execution_count": 26,
   "metadata": {
    "collapsed": false
   },
   "outputs": [
    {
     "data": {
      "text/plain": [
       "array([[  0,  -7],\n",
       "       [  2,   3],\n",
       "       [ -1,   9],\n",
       "       [ -6,   2],\n",
       "       [  5,   8],\n",
       "       [ -1,   3],\n",
       "       [  3,  -6],\n",
       "       [ -4,   5],\n",
       "       [  3,  -3],\n",
       "       [ -5,   9],\n",
       "       [ -7,   3],\n",
       "       [  3,  -6],\n",
       "       [ -2,  -4],\n",
       "       [ -3, -10],\n",
       "       [ -9,  -1],\n",
       "       [ -5,   2],\n",
       "       [ -5,   5],\n",
       "       [  3,   5],\n",
       "       [ -9,  -3],\n",
       "       [ -5,   4]])"
      ]
     },
     "execution_count": 26,
     "metadata": {},
     "output_type": "execute_result"
    }
   ],
   "source": [
    "X = np.random.randint(-10,10,(20,2))\n",
    "X"
   ]
  },
  {
   "cell_type": "code",
   "execution_count": 27,
   "metadata": {
    "collapsed": false
   },
   "outputs": [
    {
     "data": {
      "text/plain": [
       "array([[   0, -138],\n",
       "       [   2,   62],\n",
       "       [  -1,  182],\n",
       "       [  -6,   42],\n",
       "       [   5,  162],\n",
       "       [  -1,   62],\n",
       "       [   3, -118],\n",
       "       [  -4,  102],\n",
       "       [   3,  -58],\n",
       "       [  -5,  182],\n",
       "       [  -7,   62],\n",
       "       [   3, -118],\n",
       "       [  -2,  -78],\n",
       "       [  -3, -198],\n",
       "       [  -9,  -18],\n",
       "       [  -5,   42],\n",
       "       [  -5,  102],\n",
       "       [   3,  102],\n",
       "       [  -9,  -58],\n",
       "       [  -5,   82]])"
      ]
     },
     "execution_count": 27,
     "metadata": {},
     "output_type": "execute_result"
    }
   ],
   "source": [
    "X[:,1] = X[:,1] * 20 + 2\n",
    "X"
   ]
  },
  {
   "cell_type": "markdown",
   "metadata": {},
   "source": [
    "We want to predict a target variable y.\n",
    "Of course, normally y would not be under our control ;-) But here, we are going to cheat ..."
   ]
  },
  {
   "cell_type": "code",
   "execution_count": 28,
   "metadata": {
    "collapsed": false
   },
   "outputs": [
    {
     "data": {
      "text/plain": [
       "array([ 168,  -26, -155,  -30, -117,  -35,  157,  -84,   97, -167,  -53,\n",
       "        157,  102,  219,   21,  -27,  -87,  -63,   61,  -67])"
      ]
     },
     "execution_count": 28,
     "metadata": {},
     "output_type": "execute_result"
    }
   ],
   "source": [
    "y = 30 + 3 * X[:,0] - X[:,1]\n",
    "y"
   ]
  },
  {
   "cell_type": "markdown",
   "metadata": {},
   "source": [
    "To calculate the regression coefficients, we need to add a column of ones to the input matrix."
   ]
  },
  {
   "cell_type": "code",
   "execution_count": 29,
   "metadata": {
    "collapsed": false
   },
   "outputs": [
    {
     "data": {
      "text/plain": [
       "2"
      ]
     },
     "execution_count": 29,
     "metadata": {},
     "output_type": "execute_result"
    }
   ],
   "source": [
    "ones = np.ones((20,1))\n",
    "ones.ndim"
   ]
  },
  {
   "cell_type": "code",
   "execution_count": 30,
   "metadata": {
    "collapsed": false
   },
   "outputs": [
    {
     "data": {
      "text/plain": [
       "array([[   1.,    0., -138.],\n",
       "       [   1.,    2.,   62.],\n",
       "       [   1.,   -1.,  182.],\n",
       "       [   1.,   -6.,   42.],\n",
       "       [   1.,    5.,  162.],\n",
       "       [   1.,   -1.,   62.],\n",
       "       [   1.,    3., -118.],\n",
       "       [   1.,   -4.,  102.],\n",
       "       [   1.,    3.,  -58.],\n",
       "       [   1.,   -5.,  182.],\n",
       "       [   1.,   -7.,   62.],\n",
       "       [   1.,    3., -118.],\n",
       "       [   1.,   -2.,  -78.],\n",
       "       [   1.,   -3., -198.],\n",
       "       [   1.,   -9.,  -18.],\n",
       "       [   1.,   -5.,   42.],\n",
       "       [   1.,   -5.,  102.],\n",
       "       [   1.,    3.,  102.],\n",
       "       [   1.,   -9.,  -58.],\n",
       "       [   1.,   -5.,   82.]])"
      ]
     },
     "execution_count": 30,
     "metadata": {},
     "output_type": "execute_result"
    }
   ],
   "source": [
    "X = np.append(ones, X, axis=1)\n",
    "X"
   ]
  },
  {
   "cell_type": "markdown",
   "metadata": {},
   "source": [
    "## Calculate regression coefficients"
   ]
  },
  {
   "cell_type": "markdown",
   "metadata": {},
   "source": [
    "Now, calculate the regression coefficients.\n",
    "\n",
    "The formula is\n",
    "\n",
    "$\n",
    "\\mathbf{\\hat{B}} = (\\mathbf{X}\\mathbf{X}^T)^{-1} \\mathbf{X}^T \\mathbf{y}\n",
    "$\n",
    "\n",
    "Let's calculate this step by step."
   ]
  },
  {
   "cell_type": "code",
   "execution_count": 31,
   "metadata": {
    "collapsed": false
   },
   "outputs": [
    {
     "data": {
      "text/plain": [
       "array([[   1.,    1.,    1.,    1.,    1.,    1.,    1.,    1.,    1.,\n",
       "           1.,    1.,    1.,    1.,    1.,    1.,    1.,    1.,    1.,\n",
       "           1.,    1.],\n",
       "       [   0.,    2.,   -1.,   -6.,    5.,   -1.,    3.,   -4.,    3.,\n",
       "          -5.,   -7.,    3.,   -2.,   -3.,   -9.,   -5.,   -5.,    3.,\n",
       "          -9.,   -5.],\n",
       "       [-138.,   62.,  182.,   42.,  162.,   62., -118.,  102.,  -58.,\n",
       "         182.,   62., -118.,  -78., -198.,  -18.,   42.,  102.,  102.,\n",
       "         -58.,   82.]])"
      ]
     },
     "execution_count": 31,
     "metadata": {},
     "output_type": "execute_result"
    }
   ],
   "source": [
    "# X transpose\n",
    "X_transpose = X.T\n",
    "X_transpose"
   ]
  },
  {
   "cell_type": "code",
   "execution_count": 32,
   "metadata": {
    "collapsed": false
   },
   "outputs": [
    {
     "data": {
      "text/plain": [
       "array([[  2.00000000e+01,  -4.30000000e+01,   4.00000000e+02],\n",
       "       [ -4.30000000e+01,   4.43000000e+02,  -1.58600000e+03],\n",
       "       [  4.00000000e+02,  -1.58600000e+03,   2.44720000e+05]])"
      ]
     },
     "execution_count": 32,
     "metadata": {},
     "output_type": "execute_result"
    }
   ],
   "source": [
    "# X transpose * X\n",
    "X_t_X = X_transpose.dot(X)\n",
    "X_t_X"
   ]
  },
  {
   "cell_type": "code",
   "execution_count": 35,
   "metadata": {
    "collapsed": false
   },
   "outputs": [],
   "source": [
    "# inverse of (X transpose * X)\n",
    "inverse = np.linalg.inv(X_t_X)"
   ]
  },
  {
   "cell_type": "code",
   "execution_count": 36,
   "metadata": {
    "collapsed": false
   },
   "outputs": [
    {
     "data": {
      "text/plain": [
       "array([[  7.33355551e-02,   7.21086574e-02,   4.61879384e-02,\n",
       "          2.54599836e-02,   8.34878659e-02,   5.41196714e-02,\n",
       "          9.00025856e-02,   3.34867744e-02,   8.60367191e-02,\n",
       "          2.22026237e-02,   1.81416994e-02,   9.00025856e-02,\n",
       "          5.73770313e-02,   5.93124357e-02,   1.14368641e-02,\n",
       "          3.14563122e-02,   2.74904457e-02,   7.54610751e-02,\n",
       "          1.40807751e-02,   2.88124012e-02],\n",
       "       [  4.78126768e-03,   1.22840158e-02,   4.72790531e-03,\n",
       "         -1.08592408e-02,   2.17771801e-02,   3.67133054e-03,\n",
       "          1.35700488e-02,  -4.58916317e-03,   1.40983362e-02,\n",
       "         -6.75567509e-03,  -1.35540401e-02,   1.35700488e-02,\n",
       "         -4.32235136e-04,  -4.35970501e-03,  -2.00002134e-02,\n",
       "         -7.98834566e-03,  -7.46005827e-03,   1.55071025e-02,\n",
       "         -2.03524050e-02,  -7.63615407e-03],\n",
       "       [ -6.52791482e-04,   2.15098832e-04,   6.98852903e-04,\n",
       "          5.96324400e-05,   6.66653569e-04,   1.88684463e-04,\n",
       "         -5.41349039e-04,   3.32326240e-04,  -2.86264819e-04,\n",
       "          6.63633744e-04,   1.35855724e-04,  -5.41349039e-04,\n",
       "         -4.15316841e-04,  -9.34290072e-04,  -2.21866150e-04,\n",
       "          6.84372299e-05,   3.23521450e-04,   3.93959769e-04,\n",
       "         -3.91922297e-04,   2.38493377e-04]])"
      ]
     },
     "execution_count": 36,
     "metadata": {},
     "output_type": "execute_result"
    }
   ],
   "source": [
    "# multiply this inverse with X transpose\n",
    "inverse_X_t = inverse.dot(X_transpose)\n",
    "inverse_X_t"
   ]
  },
  {
   "cell_type": "code",
   "execution_count": 37,
   "metadata": {
    "collapsed": false
   },
   "outputs": [
    {
     "data": {
      "text/plain": [
       "array([ 30.,   3.,  -1.])"
      ]
     },
     "execution_count": 37,
     "metadata": {},
     "output_type": "execute_result"
    }
   ],
   "source": [
    "# now multiply this with y\n",
    "inverse_X_t.dot(y)"
   ]
  },
  {
   "cell_type": "markdown",
   "metadata": {},
   "source": [
    "Now these are the intercept and the regression coefficients of our 2 predictors!"
   ]
  }
 ],
 "metadata": {
  "kernelspec": {
   "display_name": "Python 2",
   "language": "python",
   "name": "python2"
  },
  "language_info": {
   "codemirror_mode": {
    "name": "ipython",
    "version": 2
   },
   "file_extension": ".py",
   "mimetype": "text/x-python",
   "name": "python",
   "nbconvert_exporter": "python",
   "pygments_lexer": "ipython2",
   "version": "2.7.11"
  }
 },
 "nbformat": 4,
 "nbformat_minor": 0
}
