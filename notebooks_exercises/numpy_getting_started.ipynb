{
 "cells": [
  {
   "cell_type": "markdown",
   "metadata": {},
   "source": [
    "# Getting started with NumPy"
   ]
  },
  {
   "cell_type": "code",
   "execution_count": 1,
   "metadata": {
    "collapsed": true
   },
   "outputs": [],
   "source": [
    "import numpy as np"
   ]
  },
  {
   "cell_type": "markdown",
   "metadata": {},
   "source": [
    "## Getting used to vectorization and broadcasting\n",
    "\n",
    "First, let's generate some test data. Generate a two-dimensional array with 10 rows and 4 columns, from a normal distribution with mean = 100 and standard deviation 20."
   ]
  },
  {
   "cell_type": "code",
   "execution_count": 2,
   "metadata": {
    "collapsed": false
   },
   "outputs": [
    {
     "data": {
      "text/plain": [
       "array([[  92.30655148,  129.9311227 ,   70.64847028,   72.44558008],\n",
       "       [ 104.30756145,  132.9652361 ,   91.08058179,  110.95906757],\n",
       "       [  85.84430616,  114.53768115,  130.03054066,  142.91838379],\n",
       "       [ 128.51354202,  118.19484504,   98.75239905,   66.12932731],\n",
       "       [  50.82601197,   74.90358652,  129.22237526,  105.53799185],\n",
       "       [  88.97867955,   65.18964801,  112.96644632,   92.29403921],\n",
       "       [ 147.51887021,   92.71083474,   78.34825529,   91.0673518 ],\n",
       "       [  96.73200958,   72.20153736,  116.26752552,   90.20263798],\n",
       "       [ 133.63173702,  102.79199187,  100.11504546,  101.83080595],\n",
       "       [ 104.33245915,   91.3606158 ,  120.61046555,  115.86601472]])"
      ]
     },
     "execution_count": 2,
     "metadata": {},
     "output_type": "execute_result"
    }
   ],
   "source": [
    "data = np.random.normal(100, 20, (10,4))\n",
    "data"
   ]
  },
  {
   "cell_type": "markdown",
   "metadata": {},
   "source": [
    "Display the last 2 columns of rows 1-5 (let's agree that we start counting from 1 when using normal language)."
   ]
  },
  {
   "cell_type": "code",
   "execution_count": 3,
   "metadata": {
    "collapsed": false
   },
   "outputs": [
    {
     "data": {
      "text/plain": [
       "array([[  92.3,  129.9,   70.6,   72.4],\n",
       "       [ 104.3,  133. ,   91.1,  111. ],\n",
       "       [  85.8,  114.5,  130. ,  142.9],\n",
       "       [ 128.5,  118.2,   98.8,   66.1],\n",
       "       [  50.8,   74.9,  129.2,  105.5],\n",
       "       [  89. ,   65.2,  113. ,   92.3],\n",
       "       [ 147.5,   92.7,   78.3,   91.1],\n",
       "       [  96.7,   72.2,  116.3,   90.2],\n",
       "       [ 133.6,  102.8,  100.1,  101.8],\n",
       "       [ 104.3,   91.4,  120.6,  115.9]])"
      ]
     },
     "execution_count": 3,
     "metadata": {},
     "output_type": "execute_result"
    }
   ],
   "source": [
    "data = data.round(1)\n",
    "data"
   ]
  },
  {
   "cell_type": "code",
   "execution_count": 4,
   "metadata": {
    "collapsed": false
   },
   "outputs": [
    {
     "data": {
      "text/plain": [
       "array([[  70.6,   72.4],\n",
       "       [  91.1,  111. ],\n",
       "       [ 130. ,  142.9],\n",
       "       [  98.8,   66.1],\n",
       "       [ 129.2,  105.5]])"
      ]
     },
     "execution_count": 4,
     "metadata": {},
     "output_type": "execute_result"
    }
   ],
   "source": [
    "data[:5, -2:]"
   ]
  },
  {
   "cell_type": "markdown",
   "metadata": {},
   "source": [
    "Now, set all data points > 130 to 0."
   ]
  },
  {
   "cell_type": "code",
   "execution_count": 5,
   "metadata": {
    "collapsed": false
   },
   "outputs": [
    {
     "data": {
      "text/plain": [
       "array([[  92.3,  129.9,   70.6,   72.4],\n",
       "       [ 104.3,    0. ,   91.1,  111. ],\n",
       "       [  85.8,  114.5,  130. ,    0. ],\n",
       "       [ 128.5,  118.2,   98.8,   66.1],\n",
       "       [  50.8,   74.9,  129.2,  105.5],\n",
       "       [  89. ,   65.2,  113. ,   92.3],\n",
       "       [   0. ,   92.7,   78.3,   91.1],\n",
       "       [  96.7,   72.2,  116.3,   90.2],\n",
       "       [   0. ,  102.8,  100.1,  101.8],\n",
       "       [ 104.3,   91.4,  120.6,  115.9]])"
      ]
     },
     "execution_count": 5,
     "metadata": {},
     "output_type": "execute_result"
    }
   ],
   "source": [
    "data = np.where(data > 130, 0, data)\n",
    "data"
   ]
  },
  {
   "cell_type": "markdown",
   "metadata": {},
   "source": [
    "Take the square root of all data points."
   ]
  },
  {
   "cell_type": "code",
   "execution_count": 6,
   "metadata": {
    "collapsed": false
   },
   "outputs": [
    {
     "data": {
      "text/plain": [
       "array([[  9.6072889 ,  11.39736812,   8.40238062,   8.50881895],\n",
       "       [ 10.21273715,   0.        ,   9.544632  ,  10.53565375],\n",
       "       [  9.26282894,  10.70046728,  11.40175425,   0.        ],\n",
       "       [ 11.33578405,  10.87198234,   9.93981891,   8.13019065],\n",
       "       [  7.12741187,   8.65447861,  11.36661779,  10.27131929],\n",
       "       [  9.43398113,   8.0746517 ,  10.63014581,   9.6072889 ],\n",
       "       [  0.        ,   9.62808392,   8.84872872,   9.544632  ],\n",
       "       [  9.83361582,   8.49705831,  10.78424777,   9.49736806],\n",
       "       [  0.        ,  10.13903348,  10.00499875,  10.0895986 ],\n",
       "       [ 10.21273715,   9.56033472,  10.98180313,  10.76568623]])"
      ]
     },
     "execution_count": 6,
     "metadata": {},
     "output_type": "execute_result"
    }
   ],
   "source": [
    "data = np.sqrt(data)\n",
    "data"
   ]
  },
  {
   "cell_type": "markdown",
   "metadata": {},
   "source": [
    "Now, compute the mean and the standard deviation over all data points."
   ]
  },
  {
   "cell_type": "code",
   "execution_count": 7,
   "metadata": {
    "collapsed": false
   },
   "outputs": [
    {
     "data": {
      "text/plain": [
       "(8.8351381919661058, 3.1040832992788499)"
      ]
     },
     "execution_count": 7,
     "metadata": {},
     "output_type": "execute_result"
    }
   ],
   "source": [
    "mean, sd = np.mean(data), np.std(data)\n",
    "mean, sd"
   ]
  },
  {
   "cell_type": "markdown",
   "metadata": {},
   "source": [
    "Then, compute the row means and standard deviations."
   ]
  },
  {
   "cell_type": "code",
   "execution_count": 8,
   "metadata": {
    "collapsed": false
   },
   "outputs": [
    {
     "data": {
      "text/plain": [
       "(array([  9.47896415,   7.57325572,   7.84126262,  10.06944399,\n",
       "          9.35495689,   9.43651688,   7.00536116,   9.65307249,\n",
       "          7.55840771,  10.38014031]),\n",
       " array([ 1.20384331,  4.38700327,  4.59234151,  1.22731324,  1.60772559,\n",
       "         0.90947737,  4.05584948,  0.81742982,  4.36411192,  0.55017016]))"
      ]
     },
     "execution_count": 8,
     "metadata": {},
     "output_type": "execute_result"
    }
   ],
   "source": [
    "row_ms, row_sds = np.mean(data, axis=1), np.std(data, axis=1)\n",
    "row_ms, row_sds"
   ]
  },
  {
   "cell_type": "markdown",
   "metadata": {},
   "source": [
    "Finally, compute column means and standard deviations."
   ]
  },
  {
   "cell_type": "code",
   "execution_count": 9,
   "metadata": {
    "collapsed": false
   },
   "outputs": [
    {
     "data": {
      "text/plain": [
       "(array([  7.7026385 ,   8.75234585,  10.19051278,   8.69505564]),\n",
       " array([ 3.97986936,  3.09458271,  0.97644732,  3.00433143]))"
      ]
     },
     "execution_count": 9,
     "metadata": {},
     "output_type": "execute_result"
    }
   ],
   "source": [
    "col_ms, col_sds = np.mean(data, axis=0), np.std(data, axis=0)\n",
    "col_ms, col_sds"
   ]
  },
  {
   "cell_type": "markdown",
   "metadata": {},
   "source": [
    "Now, compute the column means without using NumPy's mean function."
   ]
  },
  {
   "cell_type": "code",
   "execution_count": 10,
   "metadata": {
    "collapsed": false
   },
   "outputs": [
    {
     "data": {
      "text/plain": [
       "array([[  9.6072889 ,  11.39736812,   8.40238062,   8.50881895],\n",
       "       [ 10.21273715,   0.        ,   9.544632  ,  10.53565375],\n",
       "       [  9.26282894,  10.70046728,  11.40175425,   0.        ],\n",
       "       [ 11.33578405,  10.87198234,   9.93981891,   8.13019065],\n",
       "       [  7.12741187,   8.65447861,  11.36661779,  10.27131929],\n",
       "       [  9.43398113,   8.0746517 ,  10.63014581,   9.6072889 ],\n",
       "       [  0.        ,   9.62808392,   8.84872872,   9.544632  ],\n",
       "       [  9.83361582,   8.49705831,  10.78424777,   9.49736806],\n",
       "       [  0.        ,  10.13903348,  10.00499875,  10.0895986 ],\n",
       "       [ 10.21273715,   9.56033472,  10.98180313,  10.76568623]])"
      ]
     },
     "execution_count": 10,
     "metadata": {},
     "output_type": "execute_result"
    }
   ],
   "source": [
    "data"
   ]
  },
  {
   "cell_type": "code",
   "execution_count": 11,
   "metadata": {
    "collapsed": false
   },
   "outputs": [
    {
     "data": {
      "text/plain": [
       "array([ 11.39736812,   0.        ,  10.70046728,  10.87198234,\n",
       "         8.65447861,   8.0746517 ,   9.62808392,   8.49705831,\n",
       "        10.13903348,   9.56033472])"
      ]
     },
     "execution_count": 11,
     "metadata": {},
     "output_type": "execute_result"
    }
   ],
   "source": [
    "col2 = data[:,1]\n",
    "col2"
   ]
  },
  {
   "cell_type": "code",
   "execution_count": 12,
   "metadata": {
    "collapsed": false
   },
   "outputs": [
    {
     "data": {
      "text/plain": [
       "8.7523458484056107"
      ]
     },
     "execution_count": 12,
     "metadata": {},
     "output_type": "execute_result"
    }
   ],
   "source": [
    "mean_col2 = col2.sum() / len(col2)\n",
    "mean_col2"
   ]
  },
  {
   "cell_type": "code",
   "execution_count": 13,
   "metadata": {
    "collapsed": false
   },
   "outputs": [
    {
     "data": {
      "text/plain": [
       "9.5764421498970513"
      ]
     },
     "execution_count": 13,
     "metadata": {},
     "output_type": "execute_result"
    }
   ],
   "source": [
    "var_col2 = ((col2 - mean_col2)**2).sum() / len(col2)\n",
    "var_col2"
   ]
  },
  {
   "cell_type": "code",
   "execution_count": 14,
   "metadata": {
    "collapsed": false
   },
   "outputs": [
    {
     "data": {
      "text/plain": [
       "3.0945827101399392"
      ]
     },
     "execution_count": 14,
     "metadata": {},
     "output_type": "execute_result"
    }
   ],
   "source": [
    "sd_col2 = np.sqrt(var_col2)\n",
    "sd_col2"
   ]
  },
  {
   "cell_type": "markdown",
   "metadata": {},
   "source": [
    "Now double check again using NumPy's mean and std functions."
   ]
  },
  {
   "cell_type": "code",
   "execution_count": 15,
   "metadata": {
    "collapsed": false
   },
   "outputs": [
    {
     "data": {
      "text/plain": [
       "8.7523458484056107"
      ]
     },
     "execution_count": 15,
     "metadata": {},
     "output_type": "execute_result"
    }
   ],
   "source": [
    "np.mean(col2)"
   ]
  },
  {
   "cell_type": "code",
   "execution_count": 16,
   "metadata": {
    "collapsed": false
   },
   "outputs": [
    {
     "data": {
      "text/plain": [
       "3.0945827101399392"
      ]
     },
     "execution_count": 16,
     "metadata": {},
     "output_type": "execute_result"
    }
   ],
   "source": [
    "np.std(col2)"
   ]
  },
  {
   "cell_type": "code",
   "execution_count": 17,
   "metadata": {
    "collapsed": false
   },
   "outputs": [
    {
     "data": {
      "text/plain": [
       "95.76442149897052"
      ]
     },
     "execution_count": 17,
     "metadata": {},
     "output_type": "execute_result"
    }
   ],
   "source": [
    "((col2 - mean_col2)**2).sum()"
   ]
  },
  {
   "cell_type": "markdown",
   "metadata": {},
   "source": [
    "## Simple linear regression"
   ]
  },
  {
   "cell_type": "code",
   "execution_count": null,
   "metadata": {
    "collapsed": true
   },
   "outputs": [],
   "source": [
    "For practise with ndarrays, we are going to compute linear regression ourselves,"
   ]
  }
 ],
 "metadata": {
  "kernelspec": {
   "display_name": "Python 2",
   "language": "python",
   "name": "python2"
  },
  "language_info": {
   "codemirror_mode": {
    "name": "ipython",
    "version": 2
   },
   "file_extension": ".py",
   "mimetype": "text/x-python",
   "name": "python",
   "nbconvert_exporter": "python",
   "pygments_lexer": "ipython2",
   "version": "2.7.11"
  }
 },
 "nbformat": 4,
 "nbformat_minor": 0
}
